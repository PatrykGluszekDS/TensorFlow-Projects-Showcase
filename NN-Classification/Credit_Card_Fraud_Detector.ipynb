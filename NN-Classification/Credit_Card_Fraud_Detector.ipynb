{
  "nbformat": 4,
  "nbformat_minor": 0,
  "metadata": {
    "colab": {
      "provenance": [],
      "gpuType": "T4",
      "authorship_tag": "ABX9TyNgIV8Zlt8lBAIlCxqXPK5z",
      "include_colab_link": true
    },
    "kernelspec": {
      "name": "python3",
      "display_name": "Python 3"
    },
    "language_info": {
      "name": "python"
    },
    "accelerator": "GPU"
  },
  "cells": [
    {
      "cell_type": "markdown",
      "metadata": {
        "id": "view-in-github",
        "colab_type": "text"
      },
      "source": [
        "<a href=\"https://colab.research.google.com/github/PatrykGluszekDS/TensorFlow-Projects-Showcase/blob/main/NN-Classification/Credit_Card_Fraud_Detector.ipynb\" target=\"_parent\"><img src=\"https://colab.research.google.com/assets/colab-badge.svg\" alt=\"Open In Colab\"/></a>"
      ]
    },
    {
      "cell_type": "code",
      "source": [
        "import pandas as pd\n",
        "import kagglehub\n",
        "import numpy as np\n",
        "import matplotlib.pyplot as plt\n",
        "import seaborn as sns, datetime\n",
        "import joblib, os, hashlib, json, tqdm, warnings, random\n",
        "\n",
        "import tensorflow as tf\n",
        "from tensorflow.keras import layers, models, callbacks\n",
        "import keras_tuner as kt\n",
        "\n",
        "from sklearn.model_selection import train_test_split\n",
        "from sklearn.preprocessing import MinMaxScaler\n",
        "from sklearn.linear_model import LogisticRegression\n",
        "from sklearn.metrics import roc_auc_score, average_precision_score, precision_recall_curve, RocCurveDisplay, f1_score, confusion_matrix, ConfusionMatrixDisplay\n",
        "from sklearn.utils.class_weight import compute_class_weight\n",
        "from sklearn.model_selection import GridSearchCV, RandomizedSearchCV, StratifiedKFold\n",
        "from sklearn.ensemble import RandomForestClassifier\n",
        "\n",
        "from xgboost import XGBClassifier\n",
        "\n",
        "from imblearn.over_sampling import SMOTE\n",
        "from imblearn.under_sampling import RandomUnderSampler\n",
        "\n",
        "warnings.filterwarnings(\"ignore\")\n",
        "RANDOM = 42"
      ],
      "metadata": {
        "id": "jZpgBHpxydvd"
      },
      "execution_count": 72,
      "outputs": []
    },
    {
      "cell_type": "markdown",
      "source": [
        "# 🏁 1 · Project Bootstrap & Data Import\n",
        "\n",
        "In this section:\n",
        "\n",
        "1. Downloading the European credit-card fraud dataset (284 k samples, <1 % fraud)  \n",
        "2. Loading into a Pandas dataframe and running a quick sanity check\n"
      ],
      "metadata": {
        "id": "tz-8xznkzlHN"
      }
    },
    {
      "cell_type": "code",
      "source": [
        "path = kagglehub.dataset_download(\"mlg-ulb/creditcardfraud\")\n",
        "\n",
        "df = pd.read_csv(path + \"/creditcard.csv\")\n",
        "df.head()"
      ],
      "metadata": {
        "colab": {
          "base_uri": "https://localhost:8080/",
          "height": 235
        },
        "id": "snRmVXyDmyTA",
        "outputId": "c4cc074b-fd77-4542-80a2-5603f9b0db2b"
      },
      "execution_count": 2,
      "outputs": [
        {
          "output_type": "execute_result",
          "data": {
            "text/plain": [
              "   Time        V1        V2        V3        V4        V5        V6        V7  \\\n",
              "0   0.0 -1.359807 -0.072781  2.536347  1.378155 -0.338321  0.462388  0.239599   \n",
              "1   0.0  1.191857  0.266151  0.166480  0.448154  0.060018 -0.082361 -0.078803   \n",
              "2   1.0 -1.358354 -1.340163  1.773209  0.379780 -0.503198  1.800499  0.791461   \n",
              "3   1.0 -0.966272 -0.185226  1.792993 -0.863291 -0.010309  1.247203  0.237609   \n",
              "4   2.0 -1.158233  0.877737  1.548718  0.403034 -0.407193  0.095921  0.592941   \n",
              "\n",
              "         V8        V9  ...       V21       V22       V23       V24       V25  \\\n",
              "0  0.098698  0.363787  ... -0.018307  0.277838 -0.110474  0.066928  0.128539   \n",
              "1  0.085102 -0.255425  ... -0.225775 -0.638672  0.101288 -0.339846  0.167170   \n",
              "2  0.247676 -1.514654  ...  0.247998  0.771679  0.909412 -0.689281 -0.327642   \n",
              "3  0.377436 -1.387024  ... -0.108300  0.005274 -0.190321 -1.175575  0.647376   \n",
              "4 -0.270533  0.817739  ... -0.009431  0.798278 -0.137458  0.141267 -0.206010   \n",
              "\n",
              "        V26       V27       V28  Amount  Class  \n",
              "0 -0.189115  0.133558 -0.021053  149.62      0  \n",
              "1  0.125895 -0.008983  0.014724    2.69      0  \n",
              "2 -0.139097 -0.055353 -0.059752  378.66      0  \n",
              "3 -0.221929  0.062723  0.061458  123.50      0  \n",
              "4  0.502292  0.219422  0.215153   69.99      0  \n",
              "\n",
              "[5 rows x 31 columns]"
            ],
            "text/html": [
              "\n",
              "  <div id=\"df-d2240711-4bd4-4245-90f5-702a49644048\" class=\"colab-df-container\">\n",
              "    <div>\n",
              "<style scoped>\n",
              "    .dataframe tbody tr th:only-of-type {\n",
              "        vertical-align: middle;\n",
              "    }\n",
              "\n",
              "    .dataframe tbody tr th {\n",
              "        vertical-align: top;\n",
              "    }\n",
              "\n",
              "    .dataframe thead th {\n",
              "        text-align: right;\n",
              "    }\n",
              "</style>\n",
              "<table border=\"1\" class=\"dataframe\">\n",
              "  <thead>\n",
              "    <tr style=\"text-align: right;\">\n",
              "      <th></th>\n",
              "      <th>Time</th>\n",
              "      <th>V1</th>\n",
              "      <th>V2</th>\n",
              "      <th>V3</th>\n",
              "      <th>V4</th>\n",
              "      <th>V5</th>\n",
              "      <th>V6</th>\n",
              "      <th>V7</th>\n",
              "      <th>V8</th>\n",
              "      <th>V9</th>\n",
              "      <th>...</th>\n",
              "      <th>V21</th>\n",
              "      <th>V22</th>\n",
              "      <th>V23</th>\n",
              "      <th>V24</th>\n",
              "      <th>V25</th>\n",
              "      <th>V26</th>\n",
              "      <th>V27</th>\n",
              "      <th>V28</th>\n",
              "      <th>Amount</th>\n",
              "      <th>Class</th>\n",
              "    </tr>\n",
              "  </thead>\n",
              "  <tbody>\n",
              "    <tr>\n",
              "      <th>0</th>\n",
              "      <td>0.0</td>\n",
              "      <td>-1.359807</td>\n",
              "      <td>-0.072781</td>\n",
              "      <td>2.536347</td>\n",
              "      <td>1.378155</td>\n",
              "      <td>-0.338321</td>\n",
              "      <td>0.462388</td>\n",
              "      <td>0.239599</td>\n",
              "      <td>0.098698</td>\n",
              "      <td>0.363787</td>\n",
              "      <td>...</td>\n",
              "      <td>-0.018307</td>\n",
              "      <td>0.277838</td>\n",
              "      <td>-0.110474</td>\n",
              "      <td>0.066928</td>\n",
              "      <td>0.128539</td>\n",
              "      <td>-0.189115</td>\n",
              "      <td>0.133558</td>\n",
              "      <td>-0.021053</td>\n",
              "      <td>149.62</td>\n",
              "      <td>0</td>\n",
              "    </tr>\n",
              "    <tr>\n",
              "      <th>1</th>\n",
              "      <td>0.0</td>\n",
              "      <td>1.191857</td>\n",
              "      <td>0.266151</td>\n",
              "      <td>0.166480</td>\n",
              "      <td>0.448154</td>\n",
              "      <td>0.060018</td>\n",
              "      <td>-0.082361</td>\n",
              "      <td>-0.078803</td>\n",
              "      <td>0.085102</td>\n",
              "      <td>-0.255425</td>\n",
              "      <td>...</td>\n",
              "      <td>-0.225775</td>\n",
              "      <td>-0.638672</td>\n",
              "      <td>0.101288</td>\n",
              "      <td>-0.339846</td>\n",
              "      <td>0.167170</td>\n",
              "      <td>0.125895</td>\n",
              "      <td>-0.008983</td>\n",
              "      <td>0.014724</td>\n",
              "      <td>2.69</td>\n",
              "      <td>0</td>\n",
              "    </tr>\n",
              "    <tr>\n",
              "      <th>2</th>\n",
              "      <td>1.0</td>\n",
              "      <td>-1.358354</td>\n",
              "      <td>-1.340163</td>\n",
              "      <td>1.773209</td>\n",
              "      <td>0.379780</td>\n",
              "      <td>-0.503198</td>\n",
              "      <td>1.800499</td>\n",
              "      <td>0.791461</td>\n",
              "      <td>0.247676</td>\n",
              "      <td>-1.514654</td>\n",
              "      <td>...</td>\n",
              "      <td>0.247998</td>\n",
              "      <td>0.771679</td>\n",
              "      <td>0.909412</td>\n",
              "      <td>-0.689281</td>\n",
              "      <td>-0.327642</td>\n",
              "      <td>-0.139097</td>\n",
              "      <td>-0.055353</td>\n",
              "      <td>-0.059752</td>\n",
              "      <td>378.66</td>\n",
              "      <td>0</td>\n",
              "    </tr>\n",
              "    <tr>\n",
              "      <th>3</th>\n",
              "      <td>1.0</td>\n",
              "      <td>-0.966272</td>\n",
              "      <td>-0.185226</td>\n",
              "      <td>1.792993</td>\n",
              "      <td>-0.863291</td>\n",
              "      <td>-0.010309</td>\n",
              "      <td>1.247203</td>\n",
              "      <td>0.237609</td>\n",
              "      <td>0.377436</td>\n",
              "      <td>-1.387024</td>\n",
              "      <td>...</td>\n",
              "      <td>-0.108300</td>\n",
              "      <td>0.005274</td>\n",
              "      <td>-0.190321</td>\n",
              "      <td>-1.175575</td>\n",
              "      <td>0.647376</td>\n",
              "      <td>-0.221929</td>\n",
              "      <td>0.062723</td>\n",
              "      <td>0.061458</td>\n",
              "      <td>123.50</td>\n",
              "      <td>0</td>\n",
              "    </tr>\n",
              "    <tr>\n",
              "      <th>4</th>\n",
              "      <td>2.0</td>\n",
              "      <td>-1.158233</td>\n",
              "      <td>0.877737</td>\n",
              "      <td>1.548718</td>\n",
              "      <td>0.403034</td>\n",
              "      <td>-0.407193</td>\n",
              "      <td>0.095921</td>\n",
              "      <td>0.592941</td>\n",
              "      <td>-0.270533</td>\n",
              "      <td>0.817739</td>\n",
              "      <td>...</td>\n",
              "      <td>-0.009431</td>\n",
              "      <td>0.798278</td>\n",
              "      <td>-0.137458</td>\n",
              "      <td>0.141267</td>\n",
              "      <td>-0.206010</td>\n",
              "      <td>0.502292</td>\n",
              "      <td>0.219422</td>\n",
              "      <td>0.215153</td>\n",
              "      <td>69.99</td>\n",
              "      <td>0</td>\n",
              "    </tr>\n",
              "  </tbody>\n",
              "</table>\n",
              "<p>5 rows × 31 columns</p>\n",
              "</div>\n",
              "    <div class=\"colab-df-buttons\">\n",
              "\n",
              "  <div class=\"colab-df-container\">\n",
              "    <button class=\"colab-df-convert\" onclick=\"convertToInteractive('df-d2240711-4bd4-4245-90f5-702a49644048')\"\n",
              "            title=\"Convert this dataframe to an interactive table.\"\n",
              "            style=\"display:none;\">\n",
              "\n",
              "  <svg xmlns=\"http://www.w3.org/2000/svg\" height=\"24px\" viewBox=\"0 -960 960 960\">\n",
              "    <path d=\"M120-120v-720h720v720H120Zm60-500h600v-160H180v160Zm220 220h160v-160H400v160Zm0 220h160v-160H400v160ZM180-400h160v-160H180v160Zm440 0h160v-160H620v160ZM180-180h160v-160H180v160Zm440 0h160v-160H620v160Z\"/>\n",
              "  </svg>\n",
              "    </button>\n",
              "\n",
              "  <style>\n",
              "    .colab-df-container {\n",
              "      display:flex;\n",
              "      gap: 12px;\n",
              "    }\n",
              "\n",
              "    .colab-df-convert {\n",
              "      background-color: #E8F0FE;\n",
              "      border: none;\n",
              "      border-radius: 50%;\n",
              "      cursor: pointer;\n",
              "      display: none;\n",
              "      fill: #1967D2;\n",
              "      height: 32px;\n",
              "      padding: 0 0 0 0;\n",
              "      width: 32px;\n",
              "    }\n",
              "\n",
              "    .colab-df-convert:hover {\n",
              "      background-color: #E2EBFA;\n",
              "      box-shadow: 0px 1px 2px rgba(60, 64, 67, 0.3), 0px 1px 3px 1px rgba(60, 64, 67, 0.15);\n",
              "      fill: #174EA6;\n",
              "    }\n",
              "\n",
              "    .colab-df-buttons div {\n",
              "      margin-bottom: 4px;\n",
              "    }\n",
              "\n",
              "    [theme=dark] .colab-df-convert {\n",
              "      background-color: #3B4455;\n",
              "      fill: #D2E3FC;\n",
              "    }\n",
              "\n",
              "    [theme=dark] .colab-df-convert:hover {\n",
              "      background-color: #434B5C;\n",
              "      box-shadow: 0px 1px 3px 1px rgba(0, 0, 0, 0.15);\n",
              "      filter: drop-shadow(0px 1px 2px rgba(0, 0, 0, 0.3));\n",
              "      fill: #FFFFFF;\n",
              "    }\n",
              "  </style>\n",
              "\n",
              "    <script>\n",
              "      const buttonEl =\n",
              "        document.querySelector('#df-d2240711-4bd4-4245-90f5-702a49644048 button.colab-df-convert');\n",
              "      buttonEl.style.display =\n",
              "        google.colab.kernel.accessAllowed ? 'block' : 'none';\n",
              "\n",
              "      async function convertToInteractive(key) {\n",
              "        const element = document.querySelector('#df-d2240711-4bd4-4245-90f5-702a49644048');\n",
              "        const dataTable =\n",
              "          await google.colab.kernel.invokeFunction('convertToInteractive',\n",
              "                                                    [key], {});\n",
              "        if (!dataTable) return;\n",
              "\n",
              "        const docLinkHtml = 'Like what you see? Visit the ' +\n",
              "          '<a target=\"_blank\" href=https://colab.research.google.com/notebooks/data_table.ipynb>data table notebook</a>'\n",
              "          + ' to learn more about interactive tables.';\n",
              "        element.innerHTML = '';\n",
              "        dataTable['output_type'] = 'display_data';\n",
              "        await google.colab.output.renderOutput(dataTable, element);\n",
              "        const docLink = document.createElement('div');\n",
              "        docLink.innerHTML = docLinkHtml;\n",
              "        element.appendChild(docLink);\n",
              "      }\n",
              "    </script>\n",
              "  </div>\n",
              "\n",
              "\n",
              "    <div id=\"df-df52e596-b06c-4e61-9c7d-3cd9e0f0bed9\">\n",
              "      <button class=\"colab-df-quickchart\" onclick=\"quickchart('df-df52e596-b06c-4e61-9c7d-3cd9e0f0bed9')\"\n",
              "                title=\"Suggest charts\"\n",
              "                style=\"display:none;\">\n",
              "\n",
              "<svg xmlns=\"http://www.w3.org/2000/svg\" height=\"24px\"viewBox=\"0 0 24 24\"\n",
              "     width=\"24px\">\n",
              "    <g>\n",
              "        <path d=\"M19 3H5c-1.1 0-2 .9-2 2v14c0 1.1.9 2 2 2h14c1.1 0 2-.9 2-2V5c0-1.1-.9-2-2-2zM9 17H7v-7h2v7zm4 0h-2V7h2v10zm4 0h-2v-4h2v4z\"/>\n",
              "    </g>\n",
              "</svg>\n",
              "      </button>\n",
              "\n",
              "<style>\n",
              "  .colab-df-quickchart {\n",
              "      --bg-color: #E8F0FE;\n",
              "      --fill-color: #1967D2;\n",
              "      --hover-bg-color: #E2EBFA;\n",
              "      --hover-fill-color: #174EA6;\n",
              "      --disabled-fill-color: #AAA;\n",
              "      --disabled-bg-color: #DDD;\n",
              "  }\n",
              "\n",
              "  [theme=dark] .colab-df-quickchart {\n",
              "      --bg-color: #3B4455;\n",
              "      --fill-color: #D2E3FC;\n",
              "      --hover-bg-color: #434B5C;\n",
              "      --hover-fill-color: #FFFFFF;\n",
              "      --disabled-bg-color: #3B4455;\n",
              "      --disabled-fill-color: #666;\n",
              "  }\n",
              "\n",
              "  .colab-df-quickchart {\n",
              "    background-color: var(--bg-color);\n",
              "    border: none;\n",
              "    border-radius: 50%;\n",
              "    cursor: pointer;\n",
              "    display: none;\n",
              "    fill: var(--fill-color);\n",
              "    height: 32px;\n",
              "    padding: 0;\n",
              "    width: 32px;\n",
              "  }\n",
              "\n",
              "  .colab-df-quickchart:hover {\n",
              "    background-color: var(--hover-bg-color);\n",
              "    box-shadow: 0 1px 2px rgba(60, 64, 67, 0.3), 0 1px 3px 1px rgba(60, 64, 67, 0.15);\n",
              "    fill: var(--button-hover-fill-color);\n",
              "  }\n",
              "\n",
              "  .colab-df-quickchart-complete:disabled,\n",
              "  .colab-df-quickchart-complete:disabled:hover {\n",
              "    background-color: var(--disabled-bg-color);\n",
              "    fill: var(--disabled-fill-color);\n",
              "    box-shadow: none;\n",
              "  }\n",
              "\n",
              "  .colab-df-spinner {\n",
              "    border: 2px solid var(--fill-color);\n",
              "    border-color: transparent;\n",
              "    border-bottom-color: var(--fill-color);\n",
              "    animation:\n",
              "      spin 1s steps(1) infinite;\n",
              "  }\n",
              "\n",
              "  @keyframes spin {\n",
              "    0% {\n",
              "      border-color: transparent;\n",
              "      border-bottom-color: var(--fill-color);\n",
              "      border-left-color: var(--fill-color);\n",
              "    }\n",
              "    20% {\n",
              "      border-color: transparent;\n",
              "      border-left-color: var(--fill-color);\n",
              "      border-top-color: var(--fill-color);\n",
              "    }\n",
              "    30% {\n",
              "      border-color: transparent;\n",
              "      border-left-color: var(--fill-color);\n",
              "      border-top-color: var(--fill-color);\n",
              "      border-right-color: var(--fill-color);\n",
              "    }\n",
              "    40% {\n",
              "      border-color: transparent;\n",
              "      border-right-color: var(--fill-color);\n",
              "      border-top-color: var(--fill-color);\n",
              "    }\n",
              "    60% {\n",
              "      border-color: transparent;\n",
              "      border-right-color: var(--fill-color);\n",
              "    }\n",
              "    80% {\n",
              "      border-color: transparent;\n",
              "      border-right-color: var(--fill-color);\n",
              "      border-bottom-color: var(--fill-color);\n",
              "    }\n",
              "    90% {\n",
              "      border-color: transparent;\n",
              "      border-bottom-color: var(--fill-color);\n",
              "    }\n",
              "  }\n",
              "</style>\n",
              "\n",
              "      <script>\n",
              "        async function quickchart(key) {\n",
              "          const quickchartButtonEl =\n",
              "            document.querySelector('#' + key + ' button');\n",
              "          quickchartButtonEl.disabled = true;  // To prevent multiple clicks.\n",
              "          quickchartButtonEl.classList.add('colab-df-spinner');\n",
              "          try {\n",
              "            const charts = await google.colab.kernel.invokeFunction(\n",
              "                'suggestCharts', [key], {});\n",
              "          } catch (error) {\n",
              "            console.error('Error during call to suggestCharts:', error);\n",
              "          }\n",
              "          quickchartButtonEl.classList.remove('colab-df-spinner');\n",
              "          quickchartButtonEl.classList.add('colab-df-quickchart-complete');\n",
              "        }\n",
              "        (() => {\n",
              "          let quickchartButtonEl =\n",
              "            document.querySelector('#df-df52e596-b06c-4e61-9c7d-3cd9e0f0bed9 button');\n",
              "          quickchartButtonEl.style.display =\n",
              "            google.colab.kernel.accessAllowed ? 'block' : 'none';\n",
              "        })();\n",
              "      </script>\n",
              "    </div>\n",
              "\n",
              "    </div>\n",
              "  </div>\n"
            ],
            "application/vnd.google.colaboratory.intrinsic+json": {
              "type": "dataframe",
              "variable_name": "df"
            }
          },
          "metadata": {},
          "execution_count": 2
        }
      ]
    },
    {
      "cell_type": "code",
      "source": [
        "print(f\"Shape: {df.shape}\")\n",
        "print(df['Class'].value_counts(normalize=True).mul(100).round(4))"
      ],
      "metadata": {
        "colab": {
          "base_uri": "https://localhost:8080/"
        },
        "id": "yNFkstIezEY-",
        "outputId": "e9b146a3-9686-4b86-e3d6-5d30f7fdbb21"
      },
      "execution_count": 3,
      "outputs": [
        {
          "output_type": "stream",
          "name": "stdout",
          "text": [
            "Shape: (284807, 31)\n",
            "Class\n",
            "0    99.8273\n",
            "1     0.1727\n",
            "Name: proportion, dtype: float64\n"
          ]
        }
      ]
    },
    {
      "cell_type": "markdown",
      "source": [
        "🔍 **Observation:** Only **0.172 %** of transactions are fraudulent—severe class imbalance."
      ],
      "metadata": {
        "id": "BT_1CEn-z25T"
      }
    },
    {
      "cell_type": "markdown",
      "source": [
        "# 🔎 2 · Exploratory Data Analysis\n",
        "\n",
        "Goals for this section:\n",
        "\n",
        "* Visualise target-class imbalance  \n",
        "* Inspect the € `Amount` distribution (log-scale)  \n",
        "* Explore feature correlations (`V1–V28`)  \n",
        "* Check fraud-rate over time"
      ],
      "metadata": {
        "id": "hf-HZzxc1J5_"
      }
    },
    {
      "cell_type": "code",
      "source": [
        "df['Class'].value_counts()"
      ],
      "metadata": {
        "colab": {
          "base_uri": "https://localhost:8080/",
          "height": 178
        },
        "id": "Oo5lSqtg1jLw",
        "outputId": "4428adf3-ee07-412c-f079-972fd55ddde9"
      },
      "execution_count": 4,
      "outputs": [
        {
          "output_type": "execute_result",
          "data": {
            "text/plain": [
              "Class\n",
              "0    284315\n",
              "1       492\n",
              "Name: count, dtype: int64"
            ],
            "text/html": [
              "<div>\n",
              "<style scoped>\n",
              "    .dataframe tbody tr th:only-of-type {\n",
              "        vertical-align: middle;\n",
              "    }\n",
              "\n",
              "    .dataframe tbody tr th {\n",
              "        vertical-align: top;\n",
              "    }\n",
              "\n",
              "    .dataframe thead th {\n",
              "        text-align: right;\n",
              "    }\n",
              "</style>\n",
              "<table border=\"1\" class=\"dataframe\">\n",
              "  <thead>\n",
              "    <tr style=\"text-align: right;\">\n",
              "      <th></th>\n",
              "      <th>count</th>\n",
              "    </tr>\n",
              "    <tr>\n",
              "      <th>Class</th>\n",
              "      <th></th>\n",
              "    </tr>\n",
              "  </thead>\n",
              "  <tbody>\n",
              "    <tr>\n",
              "      <th>0</th>\n",
              "      <td>284315</td>\n",
              "    </tr>\n",
              "    <tr>\n",
              "      <th>1</th>\n",
              "      <td>492</td>\n",
              "    </tr>\n",
              "  </tbody>\n",
              "</table>\n",
              "</div><br><label><b>dtype:</b> int64</label>"
            ]
          },
          "metadata": {},
          "execution_count": 4
        }
      ]
    },
    {
      "cell_type": "code",
      "source": [
        "# Class imbalance bar plot\n",
        "class_counts = df['Class'].value_counts().sort_index()\n",
        "\n",
        "plt.figure()\n",
        "sns.barplot(x=class_counts.index.astype(str),\n",
        "            y=class_counts.values, color='#3475ca')\n",
        "plt.yscale('log')\n",
        "plt.xlabel('Class (0 = Legit, 1 = Fraud)')\n",
        "plt.ylabel('Count (log scale)')\n",
        "plt.title('Transactions per class')\n",
        "plt.tight_layout()\n",
        "plt.show()"
      ],
      "metadata": {
        "colab": {
          "base_uri": "https://localhost:8080/",
          "height": 487
        },
        "id": "gbkYuGouz30s",
        "outputId": "eadca8ea-f62d-493d-ed97-b8a219c68a0a"
      },
      "execution_count": 5,
      "outputs": [
        {
          "output_type": "display_data",
          "data": {
            "text/plain": [
              "<Figure size 640x480 with 1 Axes>"
            ],
            "image/png": "[encoded data removed]"
          },
          "metadata": {}
        }
      ]
    },
    {
      "cell_type": "code",
      "source": [
        "# Amount distribution (log10 €) by class\n",
        "plt.figure(figsize=(6, 4))\n",
        "for cls, label in zip([0, 1], ['Legit', 'Fraud']):\n",
        "    subset = df[df['Class'] == cls]['Amount']\n",
        "    sns.kdeplot(np.log10(subset + 1), label=label)\n",
        "plt.xlabel('log10 € Amount')\n",
        "plt.title('Transaction Amount distribution')\n",
        "plt.legend()\n",
        "plt.tight_layout()\n",
        "plt.show()\n"
      ],
      "metadata": {
        "colab": {
          "base_uri": "https://localhost:8080/",
          "height": 407
        },
        "id": "IurTlD_J1-py",
        "outputId": "b45ccf39-b1e3-4a6c-ffb3-1f11a5d77b8c"
      },
      "execution_count": 6,
      "outputs": [
        {
          "output_type": "display_data",
          "data": {
            "text/plain": [
              "<Figure size 600x400 with 1 Axes>"
            ],
            "image/png": "[encoded data removed]"
          },
          "metadata": {}
        }
      ]
    },
    {
      "cell_type": "markdown",
      "source": [
        "Legit curve peaks ≈ 10¹ € (≈ €10) then trails off\n",
        "\n",
        "Fraud has two humps — one near legit’s peak and another around log₁₀≈2 € (≈ €100).\n",
        "\n",
        "***Fraudsters slightly prefer mid-range amounts but overlap is large → Amount alone can’t separate classes; still worth keeping after standardisation.***"
      ],
      "metadata": {
        "id": "-SW95rOI35i8"
      }
    },
    {
      "cell_type": "code",
      "source": [
        "# Correlation heat-map\n",
        "plt.figure(figsize=(12, 10))\n",
        "corr = df.drop(columns=['Time']).corr()\n",
        "sns.heatmap(corr, cmap='coolwarm', vmax=1.0, vmin=-1.0, center=0,\n",
        "            square=True, linewidths=.1, cbar_kws={\"shrink\": .5})\n",
        "plt.title('Pearson correlation (V1–V28, Amount, Class)')\n",
        "plt.tight_layout()\n",
        "plt.show()\n"
      ],
      "metadata": {
        "colab": {
          "base_uri": "https://localhost:8080/",
          "height": 1000
        },
        "id": "6COPxnlI2NYR",
        "outputId": "fb77ba55-589c-41a9-8c84-a61d89ffce0d"
      },
      "execution_count": 7,
      "outputs": [
        {
          "output_type": "display_data",
          "data": {
            "text/plain": [
              "<Figure size 1200x1000 with 2 Axes>"
            ],
            "image/png": "[encoded data removed]"
          },
          "metadata": {}
        }
      ]
    },
    {
      "cell_type": "markdown",
      "source": [
        "Off-diagonal cells for V1-V28 are ~0 (grey). That’s expected—these are PCA components designed to be linearly uncorrelated. Amount shows weak pos/neg links with a few components (e.g. V7, V20).\n",
        "\n",
        "***Tree models & neural nets can still exploit higher-order interactions, but classic linear models will gain little from multicollinearity tricks. No need for further decorrelation.***"
      ],
      "metadata": {
        "id": "-rIyEUkh4lDQ"
      }
    },
    {
      "cell_type": "code",
      "source": [
        "# Fraud rate by 1-hour bins\n",
        "df['Hour'] = (df['Time'] // 3600).astype(int)\n",
        "hourly = df.groupby('Hour')['Class'].agg(['sum', 'count'])\n",
        "hourly['fraud_rate'] = hourly['sum'] / hourly['count']\n",
        "\n",
        "plt.figure(figsize=(10, 4))\n",
        "plt.plot(hourly.index, hourly['fraud_rate'])\n",
        "plt.xlabel('Hour since first transaction')\n",
        "plt.ylabel('Fraud rate')\n",
        "plt.title('Fraud-rate evolution (1-h bins)')\n",
        "plt.tight_layout()\n",
        "plt.show()"
      ],
      "metadata": {
        "colab": {
          "base_uri": "https://localhost:8080/",
          "height": 407
        },
        "id": "MkPNP3o42l_1",
        "outputId": "bbac97de-58c4-4b64-e689-cacfea2a2c06"
      },
      "execution_count": 8,
      "outputs": [
        {
          "output_type": "display_data",
          "data": {
            "text/plain": [
              "<Figure size 1000x400 with 1 Axes>"
            ],
            "image/png": "[encoded data removed]"
          },
          "metadata": {}
        }
      ]
    },
    {
      "cell_type": "markdown",
      "source": [
        "Sharp spikes (e.g., hour ≈ 25 hits ~2 % fraud)\n",
        "\n",
        "***Plot suggests that frauds could occur in bursts and could be coordinated attacks.***"
      ],
      "metadata": {
        "id": "-cNJcqsK5No_"
      }
    },
    {
      "cell_type": "markdown",
      "source": [
        "# 🛠️ 3 · Data Pre-processing & Split"
      ],
      "metadata": {
        "id": "UF3yNfyUBugq"
      }
    },
    {
      "cell_type": "code",
      "source": [
        "# config\n",
        "TEST_SIZE  = 0.15\n",
        "VAL_SIZE   = 0.15   # of original data (not of remaining)\n",
        "RANDOM_SEED = 42\n",
        "OUT_DIR = '/content/data/processed'\n",
        "os.makedirs(OUT_DIR, exist_ok=True)"
      ],
      "metadata": {
        "id": "JwVhOzfu5rfr"
      },
      "execution_count": 9,
      "outputs": []
    },
    {
      "cell_type": "code",
      "source": [
        "#  Drop 'Time' & separate features/target ---\n",
        "X = df.drop(columns=['Time', 'Class'])\n",
        "y = df['Class'].values"
      ],
      "metadata": {
        "id": "3C1cyrR2Csxf"
      },
      "execution_count": 10,
      "outputs": []
    },
    {
      "cell_type": "code",
      "source": [
        "# Min-Max scale 'Amount'\n",
        "scaler = MinMaxScaler()\n",
        "X['Amount'] = scaler.fit_transform(X[['Amount']])"
      ],
      "metadata": {
        "id": "wIWhgxFJC2hs"
      },
      "execution_count": 11,
      "outputs": []
    },
    {
      "cell_type": "code",
      "source": [
        "# Persist scaler for inference\n",
        "joblib.dump(scaler, os.path.join(OUT_DIR, 'amount_minmax.pkl'))"
      ],
      "metadata": {
        "colab": {
          "base_uri": "https://localhost:8080/"
        },
        "id": "mJA5qyq-C75V",
        "outputId": "5bdcf6da-3fc8-43bb-9d13-4a842b8a587a"
      },
      "execution_count": 12,
      "outputs": [
        {
          "output_type": "execute_result",
          "data": {
            "text/plain": [
              "['/content/data/processed/amount_minmax.pkl']"
            ]
          },
          "metadata": {},
          "execution_count": 12
        }
      ]
    },
    {
      "cell_type": "code",
      "source": [
        "# Train / temp-test split (stratified)\n",
        "X_train, X_temp, y_train, y_temp = train_test_split(\n",
        "    X, y, test_size=TEST_SIZE+VAL_SIZE, stratify=y, random_state=RANDOM_SEED)\n",
        "\n",
        "# Split temp into val & test so overall ratios are 0.15 each\n",
        "relative_val_size = VAL_SIZE / (TEST_SIZE + VAL_SIZE)  # -> 0.5\n",
        "X_val, X_test, y_val, y_test = train_test_split(\n",
        "    X_temp, y_temp, test_size=1-relative_val_size, stratify=y_temp, random_state=RANDOM_SEED)\n",
        "\n",
        "print({k:v.shape for k,v in\n",
        "       [('train',X_train),('val',X_val),('test',X_test)]})"
      ],
      "metadata": {
        "colab": {
          "base_uri": "https://localhost:8080/"
        },
        "id": "620nox99DA9P",
        "outputId": "f5bdb99d-7043-47a7-d479-f76686df1d56"
      },
      "execution_count": 13,
      "outputs": [
        {
          "output_type": "stream",
          "name": "stdout",
          "text": [
            "{'train': (199364, 30), 'val': (42721, 30), 'test': (42722, 30)}\n"
          ]
        }
      ]
    },
    {
      "cell_type": "code",
      "source": [
        "# Save NumPy arrays (compact & fast)\n",
        "np.save(os.path.join(OUT_DIR,'X_train.npy'), X_train.values)\n",
        "np.save(os.path.join(OUT_DIR,'y_train.npy'), y_train)\n",
        "np.save(os.path.join(OUT_DIR,'X_val.npy'),   X_val.values)\n",
        "np.save(os.path.join(OUT_DIR,'y_val.npy'),   y_val)\n",
        "np.save(os.path.join(OUT_DIR,'X_test.npy'),  X_test.values)\n",
        "np.save(os.path.join(OUT_DIR,'y_test.npy'),  y_test)"
      ],
      "metadata": {
        "id": "Zt4aThexDY00"
      },
      "execution_count": 14,
      "outputs": []
    },
    {
      "cell_type": "markdown",
      "source": [
        "✅ **Artifacts saved** to `data/processed/`  \n",
        "We can now train models without data-leakage worries. Next: handle the extreme imbalance"
      ],
      "metadata": {
        "id": "dnd1MLloDg12"
      }
    },
    {
      "cell_type": "markdown",
      "source": [
        "# ⚖️ 4 · Imbalance Handling & Baseline Metrics\n",
        "I try three techniques (class-weights, SMOTE, RandomUnderSampler) and\n",
        "benchmark a fast **Logistic Regression** on each to see which gives the best\n",
        "AUROC/AUPRC on the untouched validation set."
      ],
      "metadata": {
        "id": "zMAkJGdJEjRt"
      }
    },
    {
      "cell_type": "code",
      "source": [
        "X_train = np.load('/content/data/processed/X_train.npy')\n",
        "y_train = np.load('/content/data/processed/y_train.npy')\n",
        "X_val   = np.load('/content/data/processed/X_val.npy')\n",
        "y_val   = np.load('/content/data/processed/y_val.npy')"
      ],
      "metadata": {
        "id": "F-EJr2lNDnTt"
      },
      "execution_count": 15,
      "outputs": []
    },
    {
      "cell_type": "code",
      "source": [
        "def eval_model(model, name):\n",
        "    proba = model.predict_proba(X_val)[:,1]\n",
        "    auroc = roc_auc_score(y_val, proba)\n",
        "    auprc = average_precision_score(y_val, proba)\n",
        "    print(f\"{name:18}  AUROC {auroc:.4f}  AUPRC {auprc:.4f}\")\n",
        "    return proba, auroc, auprc"
      ],
      "metadata": {
        "id": "nZWxsimdFGQF"
      },
      "execution_count": 16,
      "outputs": []
    },
    {
      "cell_type": "code",
      "source": [
        "# Baseline\n",
        "\n",
        "base_lr = LogisticRegression(max_iter=1000, n_jobs=-1, class_weight=None)\n",
        "base_lr.fit(X_train, y_train)\n",
        "p0, auc0, pr0 = eval_model(base_lr, \"None / raw\")"
      ],
      "metadata": {
        "colab": {
          "base_uri": "https://localhost:8080/"
        },
        "id": "myIUvBctFKTX",
        "outputId": "b494e22f-b8a2-4d9b-908b-397bd53caafa"
      },
      "execution_count": 17,
      "outputs": [
        {
          "output_type": "stream",
          "name": "stdout",
          "text": [
            "None / raw          AUROC 0.9545  AUPRC 0.6733\n"
          ]
        }
      ]
    },
    {
      "cell_type": "code",
      "source": [
        "# Class-weights\n",
        "\n",
        "weights = compute_class_weight('balanced', classes=np.unique(y_train), y=y_train)\n",
        "cw = {0: weights[0], 1: weights[1]}\n",
        "cw_lr = LogisticRegression(max_iter=1000, n_jobs=-1, class_weight=cw)\n",
        "cw_lr.fit(X_train, y_train)\n",
        "p1, auc1, pr1 = eval_model(cw_lr, \"Class-Weights\")"
      ],
      "metadata": {
        "colab": {
          "base_uri": "https://localhost:8080/"
        },
        "id": "GCovEafrFaMI",
        "outputId": "db12f4dd-57e7-4059-fb1a-88db4f042a2f"
      },
      "execution_count": 18,
      "outputs": [
        {
          "output_type": "stream",
          "name": "stdout",
          "text": [
            "Class-Weights       AUROC 0.9677  AUPRC 0.6274\n"
          ]
        }
      ]
    },
    {
      "cell_type": "code",
      "source": [
        "# SMOTE Oversampling\n",
        "\n",
        "smote = SMOTE(sampling_strategy=0.1, random_state=42)      # fraud:legit ≈1:10\n",
        "X_sm, y_sm = smote.fit_resample(X_train, y_train)\n",
        "sm_lr = LogisticRegression(max_iter=1000, n_jobs=-1)\n",
        "sm_lr.fit(X_sm, y_sm)\n",
        "p2, auc2, pr2 = eval_model(sm_lr, \"SMOTE 1:10\")"
      ],
      "metadata": {
        "colab": {
          "base_uri": "https://localhost:8080/"
        },
        "id": "YY78G0ydFhu6",
        "outputId": "05346214-6438-4635-a502-42e7c995e876"
      },
      "execution_count": 19,
      "outputs": [
        {
          "output_type": "stream",
          "name": "stdout",
          "text": [
            "SMOTE 1:10          AUROC 0.9691  AUPRC 0.6643\n"
          ]
        }
      ]
    },
    {
      "cell_type": "code",
      "source": [
        "# RandomUnderSampler\n",
        "\n",
        "rus = RandomUnderSampler(sampling_strategy=0.1, random_state=42)\n",
        "X_ru, y_ru = rus.fit_resample(X_train, y_train)\n",
        "ru_lr = LogisticRegression(max_iter=1000, n_jobs=-1)\n",
        "ru_lr.fit(X_ru, y_ru)\n",
        "p3, auc3, pr3 = eval_model(ru_lr, \"UnderSample 1:10\")"
      ],
      "metadata": {
        "colab": {
          "base_uri": "https://localhost:8080/"
        },
        "id": "Shna8ZyLFsNZ",
        "outputId": "31483d73-554f-415d-867f-8783ec44bb16"
      },
      "execution_count": 20,
      "outputs": [
        {
          "output_type": "stream",
          "name": "stdout",
          "text": [
            "UnderSample 1:10    AUROC 0.9692  AUPRC 0.6445\n"
          ]
        }
      ]
    },
    {
      "cell_type": "code",
      "source": [
        "curves = [(\"None\",p0), (\"Weights\",p1), (\"SMOTE\",p2), (\"RUS\",p3)]\n",
        "plt.figure(figsize=(6,4))\n",
        "for label, proba in curves:\n",
        "    pr, rec, _ = precision_recall_curve(y_val, proba)\n",
        "    plt.plot(rec, pr, label=label)\n",
        "plt.xlabel('Recall'); plt.ylabel('Precision')\n",
        "plt.title('Validation Precision-Recall')\n",
        "plt.legend(); plt.tight_layout(); plt.show()"
      ],
      "metadata": {
        "colab": {
          "base_uri": "https://localhost:8080/",
          "height": 407
        },
        "id": "_gVbVk_lGLDI",
        "outputId": "3e6ebb06-cc45-4bed-afa5-d0e92b68d9bd"
      },
      "execution_count": 21,
      "outputs": [
        {
          "output_type": "display_data",
          "data": {
            "text/plain": [
              "<Figure size 600x400 with 1 Axes>"
            ],
            "image/png": "[encoded data removed]"
          },
          "metadata": {}
        }
      ]
    },
    {
      "cell_type": "markdown",
      "source": [
        "# 👑 5 · Classic-Model Baselines\n",
        "\n",
        "Training Logistic Regression, Random Forest, and XGBoost on the\n",
        "**SMOTE 1 : 10** resampled data, then comparing AUROC & AUPRC on the untouched\n",
        "validation set.\n"
      ],
      "metadata": {
        "id": "LEM-oTQZIdRJ"
      }
    },
    {
      "cell_type": "code",
      "source": [
        "X_train = np.load('/content/data/processed/X_train.npy')\n",
        "y_train = np.load('/content/data/processed/y_train.npy')\n",
        "X_val   = np.load('/content/data/processed/X_val.npy')\n",
        "y_val   = np.load('/content/data/processed/y_val.npy')"
      ],
      "metadata": {
        "id": "0nQbX-GiIcP1"
      },
      "execution_count": 32,
      "outputs": []
    },
    {
      "cell_type": "code",
      "source": [
        "# Apply SMOTE 1:10\n",
        "smote = SMOTE(sampling_strategy=0.1, random_state=RANDOM)\n",
        "Xs, ys = smote.fit_resample(X_train, y_train)\n",
        "print(f\"After SMOTE: legit={sum(ys==0)}, fraud={sum(ys==1)}  ratio {sum(ys==0)/sum(ys==1):.1f}:1\")"
      ],
      "metadata": {
        "colab": {
          "base_uri": "https://localhost:8080/"
        },
        "id": "uCn2Pv8pI8Hy",
        "outputId": "80541d7f-eb66-493f-a9bf-97da70043a8b"
      },
      "execution_count": 33,
      "outputs": [
        {
          "output_type": "stream",
          "name": "stdout",
          "text": [
            "After SMOTE: legit=199020, fraud=19902  ratio 10.0:1\n"
          ]
        }
      ]
    },
    {
      "cell_type": "code",
      "source": [
        "# The same as before\n",
        "def run_and_eval(model, name):\n",
        "    model.fit(Xs, ys)\n",
        "    proba = model.predict_proba(X_val)[:,1]\n",
        "    auroc = roc_auc_score(y_val, proba)\n",
        "    auprc = average_precision_score(y_val, proba)\n",
        "    print(f\"{name:14}  AUROC {auroc:.4f}  AUPRC {auprc:.4f}\")\n",
        "    return proba"
      ],
      "metadata": {
        "id": "hGhwJpjvJF67"
      },
      "execution_count": 34,
      "outputs": []
    },
    {
      "cell_type": "code",
      "source": [
        "# Logistic Regression\n",
        "\n",
        "logreg = LogisticRegression(max_iter=2000, solver=\"lbfgs\", n_jobs=-1)\n",
        "p_log = run_and_eval(logreg, \"LogReg\")\n",
        "joblib.dump(logreg, '/content/models/logreg.pkl');"
      ],
      "metadata": {
        "colab": {
          "base_uri": "https://localhost:8080/"
        },
        "id": "HFw-GMtUJK4G",
        "outputId": "46159aa9-9604-4f00-8945-686330e485e8"
      },
      "execution_count": 35,
      "outputs": [
        {
          "output_type": "stream",
          "name": "stdout",
          "text": [
            "LogReg          AUROC 0.9691  AUPRC 0.6643\n"
          ]
        }
      ]
    },
    {
      "cell_type": "code",
      "source": [
        "# Random Forest\n",
        "\n",
        "rf = RandomForestClassifier(\n",
        "        n_estimators=200,\n",
        "        max_depth=12,\n",
        "        n_jobs=-1,\n",
        "        min_samples_leaf=2,\n",
        "        random_state=RANDOM, verbose=100)\n",
        "p_rf = run_and_eval(rf, \"RandomForest\")\n",
        "joblib.dump(rf, '/content/models/random_forest.pkl');"
      ],
      "metadata": {
        "colab": {
          "base_uri": "https://localhost:8080/"
        },
        "collapsed": true,
        "id": "JQOV3WEXJVKk",
        "outputId": "c69a290f-d134-40f3-a0e6-1dcb2cb3ab2b"
      },
      "execution_count": 39,
      "outputs": [
        {
          "output_type": "stream",
          "name": "stdout",
          "text": [
            "[Parallel(n_jobs=-1)]: Using backend ThreadingBackend with 2 concurrent workers.\n",
            "building tree 1 of 200\n",
            "building tree 2 of 200\n",
            "building tree 3 of 200[Parallel(n_jobs=-1)]: Done   1 tasks      | elapsed:    2.9s\n",
            "\n",
            "building tree 4 of 200[Parallel(n_jobs=-1)]: Done   2 tasks      | elapsed:    3.5s\n",
            "\n",
            "building tree 5 of 200[Parallel(n_jobs=-1)]: Done   3 tasks      | elapsed:    5.5s\n",
            "\n",
            "building tree 6 of 200\n",
            "[Parallel(n_jobs=-1)]: Done   4 tasks      | elapsed:    5.8s\n",
            "building tree 7 of 200\n",
            "[Parallel(n_jobs=-1)]: Done   5 tasks      | elapsed:    7.9s\n",
            "building tree 8 of 200\n",
            "[Parallel(n_jobs=-1)]: Done   6 tasks      | elapsed:    7.9s\n",
            "building tree 9 of 200[Parallel(n_jobs=-1)]: Done   7 tasks      | elapsed:    9.7s\n",
            "\n",
            "building tree 10 of 200[Parallel(n_jobs=-1)]: Done   8 tasks      | elapsed:   10.1s\n",
            "\n",
            "building tree 11 of 200[Parallel(n_jobs=-1)]: Done   9 tasks      | elapsed:   12.0s\n",
            "\n",
            "building tree 12 of 200\n",
            "[Parallel(n_jobs=-1)]: Done  10 tasks      | elapsed:   12.2s\n",
            "building tree 13 of 200[Parallel(n_jobs=-1)]: Done  11 tasks      | elapsed:   14.4s\n",
            "\n",
            "building tree 14 of 200\n",
            "[Parallel(n_jobs=-1)]: Done  12 tasks      | elapsed:   14.9s\n",
            "building tree 15 of 200[Parallel(n_jobs=-1)]: Done  13 tasks      | elapsed:   17.5s\n",
            "\n",
            "building tree 16 of 200[Parallel(n_jobs=-1)]: Done  14 tasks      | elapsed:   17.9s\n",
            "\n",
            "building tree 17 of 200[Parallel(n_jobs=-1)]: Done  15 tasks      | elapsed:   19.7s\n",
            "\n",
            "building tree 18 of 200[Parallel(n_jobs=-1)]: Done  16 tasks      | elapsed:   20.0s\n",
            "\n",
            "building tree 19 of 200[Parallel(n_jobs=-1)]: Done  17 tasks      | elapsed:   22.0s\n",
            "\n",
            "building tree 20 of 200[Parallel(n_jobs=-1)]: Done  18 tasks      | elapsed:   22.3s\n",
            "\n",
            "building tree 21 of 200[Parallel(n_jobs=-1)]: Done  19 tasks      | elapsed:   24.2s\n",
            "\n",
            "building tree 22 of 200[Parallel(n_jobs=-1)]: Done  20 tasks      | elapsed:   24.6s\n",
            "\n",
            "building tree 23 of 200[Parallel(n_jobs=-1)]: Done  21 tasks      | elapsed:   26.4s\n",
            "\n",
            "building tree 24 of 200[Parallel(n_jobs=-1)]: Done  22 tasks      | elapsed:   26.7s\n",
            "\n",
            "building tree 25 of 200[Parallel(n_jobs=-1)]: Done  23 tasks      | elapsed:   29.5s\n",
            "\n",
            "building tree 26 of 200[Parallel(n_jobs=-1)]: Done  24 tasks      | elapsed:   30.2s\n",
            "\n",
            "building tree 27 of 200[Parallel(n_jobs=-1)]: Done  25 tasks      | elapsed:   31.6s\n",
            "\n",
            "building tree 28 of 200[Parallel(n_jobs=-1)]: Done  26 tasks      | elapsed:   32.0s\n",
            "\n",
            "building tree 29 of 200[Parallel(n_jobs=-1)]: Done  27 tasks      | elapsed:   34.2s\n",
            "\n",
            "building tree 30 of 200[Parallel(n_jobs=-1)]: Done  28 tasks      | elapsed:   34.4s\n",
            "\n",
            "building tree 31 of 200[Parallel(n_jobs=-1)]: Done  29 tasks      | elapsed:   36.4s\n",
            "\n",
            "building tree 32 of 200[Parallel(n_jobs=-1)]: Done  30 tasks      | elapsed:   36.7s\n",
            "\n",
            "building tree 33 of 200[Parallel(n_jobs=-1)]: Done  31 tasks      | elapsed:   38.6s\n",
            "\n",
            "building tree 34 of 200[Parallel(n_jobs=-1)]: Done  32 tasks      | elapsed:   39.0s\n",
            "\n",
            "building tree 35 of 200\n",
            "[Parallel(n_jobs=-1)]: Done  33 tasks      | elapsed:   42.3s\n",
            "building tree 36 of 200\n",
            "[Parallel(n_jobs=-1)]: Done  34 tasks      | elapsed:   42.4s\n",
            "building tree 37 of 200[Parallel(n_jobs=-1)]: Done  35 tasks      | elapsed:   44.5s\n",
            "\n",
            "building tree 38 of 200[Parallel(n_jobs=-1)]: Done  36 tasks      | elapsed:   44.7s\n",
            "\n",
            "building tree 39 of 200[Parallel(n_jobs=-1)]: Done  37 tasks      | elapsed:   46.6s\n",
            "\n",
            "building tree 40 of 200[Parallel(n_jobs=-1)]: Done  38 tasks      | elapsed:   46.9s\n",
            "\n",
            "building tree 41 of 200[Parallel(n_jobs=-1)]: Done  39 tasks      | elapsed:   49.0s\n",
            "\n",
            "building tree 42 of 200\n",
            "[Parallel(n_jobs=-1)]: Done  40 tasks      | elapsed:   49.1s\n",
            "building tree 43 of 200[Parallel(n_jobs=-1)]: Done  41 tasks      | elapsed:   50.9s\n",
            "\n",
            "building tree 44 of 200[Parallel(n_jobs=-1)]: Done  42 tasks      | elapsed:   51.3s\n",
            "\n",
            "building tree 45 of 200\n",
            "[Parallel(n_jobs=-1)]: Done  43 tasks      | elapsed:   53.9s\n",
            "building tree 46 of 200[Parallel(n_jobs=-1)]: Done  44 tasks      | elapsed:   54.4s\n",
            "\n",
            "building tree 47 of 200[Parallel(n_jobs=-1)]: Done  45 tasks      | elapsed:   56.7s\n",
            "\n",
            "building tree 48 of 200\n",
            "[Parallel(n_jobs=-1)]: Done  46 tasks      | elapsed:   56.8s\n",
            "building tree 49 of 200\n",
            "[Parallel(n_jobs=-1)]: Done  47 tasks      | elapsed:   59.0s\n",
            "building tree 50 of 200[Parallel(n_jobs=-1)]: Done  48 tasks      | elapsed:   59.2s\n",
            "\n",
            "building tree 51 of 200[Parallel(n_jobs=-1)]: Done  49 tasks      | elapsed:  1.0min\n",
            "\n",
            "building tree 52 of 200\n",
            "[Parallel(n_jobs=-1)]: Done  50 tasks      | elapsed:  1.0min\n",
            "building tree 53 of 200[Parallel(n_jobs=-1)]: Done  51 tasks      | elapsed:  1.1min\n",
            "\n",
            "building tree 54 of 200\n",
            "[Parallel(n_jobs=-1)]: Done  52 tasks      | elapsed:  1.1min\n",
            "building tree 55 of 200[Parallel(n_jobs=-1)]: Done  53 tasks      | elapsed:  1.1min\n",
            "\n",
            "[Parallel(n_jobs=-1)]: Done  54 tasks      | elapsed:  1.1min\n",
            "building tree 56 of 200\n",
            "building tree 57 of 200[Parallel(n_jobs=-1)]: Done  55 tasks      | elapsed:  1.2min\n",
            "\n",
            "building tree 58 of 200[Parallel(n_jobs=-1)]: Done  56 tasks      | elapsed:  1.2min\n",
            "\n",
            "building tree 59 of 200[Parallel(n_jobs=-1)]: Done  57 tasks      | elapsed:  1.2min\n",
            "\n",
            "building tree 60 of 200[Parallel(n_jobs=-1)]: Done  58 tasks      | elapsed:  1.2min\n",
            "\n",
            "building tree 61 of 200[Parallel(n_jobs=-1)]: Done  59 tasks      | elapsed:  1.2min\n",
            "\n",
            "building tree 62 of 200[Parallel(n_jobs=-1)]: Done  60 tasks      | elapsed:  1.2min\n",
            "\n",
            "building tree 63 of 200[Parallel(n_jobs=-1)]: Done  61 tasks      | elapsed:  1.3min\n",
            "\n",
            "building tree 64 of 200[Parallel(n_jobs=-1)]: Done  62 tasks      | elapsed:  1.3min\n",
            "\n",
            "building tree 65 of 200[Parallel(n_jobs=-1)]: Done  63 tasks      | elapsed:  1.3min\n",
            "\n",
            "building tree 66 of 200[Parallel(n_jobs=-1)]: Done  64 tasks      | elapsed:  1.3min\n",
            "\n",
            "building tree 67 of 200\n",
            "[Parallel(n_jobs=-1)]: Done  65 tasks      | elapsed:  1.4min\n",
            "building tree 68 of 200\n",
            "[Parallel(n_jobs=-1)]: Done  66 tasks      | elapsed:  1.4min\n",
            "building tree 69 of 200\n",
            "[Parallel(n_jobs=-1)]: Done  67 tasks      | elapsed:  1.4min\n",
            "building tree 70 of 200\n",
            "[Parallel(n_jobs=-1)]: Done  68 tasks      | elapsed:  1.4min\n",
            "building tree 71 of 200[Parallel(n_jobs=-1)]: Done  69 tasks      | elapsed:  1.4min\n",
            "\n",
            "building tree 72 of 200[Parallel(n_jobs=-1)]: Done  70 tasks      | elapsed:  1.5min\n",
            "\n",
            "building tree 73 of 200[Parallel(n_jobs=-1)]: Done  71 tasks      | elapsed:  1.5min\n",
            "\n",
            "building tree 74 of 200[Parallel(n_jobs=-1)]: Done  72 tasks      | elapsed:  1.5min\n",
            "\n",
            "building tree 75 of 200\n",
            "[Parallel(n_jobs=-1)]: Done  73 tasks      | elapsed:  1.5min\n",
            "building tree 76 of 200[Parallel(n_jobs=-1)]: Done  74 tasks      | elapsed:  1.6min\n",
            "\n",
            "building tree 77 of 200[Parallel(n_jobs=-1)]: Done  75 tasks      | elapsed:  1.6min\n",
            "\n",
            "building tree 78 of 200[Parallel(n_jobs=-1)]: Done  76 tasks      | elapsed:  1.6min\n",
            "\n",
            "building tree 79 of 200[Parallel(n_jobs=-1)]: Done  77 tasks      | elapsed:  1.6min\n",
            "\n",
            "building tree 80 of 200\n",
            "[Parallel(n_jobs=-1)]: Done  78 tasks      | elapsed:  1.6min\n",
            "building tree 81 of 200[Parallel(n_jobs=-1)]: Done  79 tasks      | elapsed:  1.7min\n",
            "\n",
            "building tree 82 of 200\n",
            "[Parallel(n_jobs=-1)]: Done  80 tasks      | elapsed:  1.7min\n",
            "building tree 83 of 200[Parallel(n_jobs=-1)]: Done  81 tasks      | elapsed:  1.7min\n",
            "\n",
            "building tree 84 of 200[Parallel(n_jobs=-1)]: Done  82 tasks      | elapsed:  1.7min\n",
            "\n",
            "building tree 85 of 200[Parallel(n_jobs=-1)]: Done  83 tasks      | elapsed:  1.7min\n",
            "\n",
            "building tree 86 of 200\n",
            "[Parallel(n_jobs=-1)]: Done  84 tasks      | elapsed:  1.7min\n",
            "building tree 87 of 200[Parallel(n_jobs=-1)]: Done  85 tasks      | elapsed:  1.8min\n",
            "\n",
            "building tree 88 of 200[Parallel(n_jobs=-1)]: Done  86 tasks      | elapsed:  1.8min\n",
            "\n",
            "building tree 89 of 200[Parallel(n_jobs=-1)]: Done  87 tasks      | elapsed:  1.8min\n",
            "\n",
            "building tree 90 of 200[Parallel(n_jobs=-1)]: Done  88 tasks      | elapsed:  1.8min\n",
            "\n",
            "building tree 91 of 200[Parallel(n_jobs=-1)]: Done  89 tasks      | elapsed:  1.9min\n",
            "\n",
            "building tree 92 of 200[Parallel(n_jobs=-1)]: Done  90 tasks      | elapsed:  1.9min\n",
            "\n",
            "building tree 93 of 200[Parallel(n_jobs=-1)]: Done  91 tasks      | elapsed:  1.9min\n",
            "\n",
            "building tree 94 of 200[Parallel(n_jobs=-1)]: Done  92 tasks      | elapsed:  1.9min\n",
            "\n",
            "building tree 95 of 200\n",
            "[Parallel(n_jobs=-1)]: Done  93 tasks      | elapsed:  1.9min\n",
            "building tree 96 of 200\n",
            "[Parallel(n_jobs=-1)]: Done  94 tasks      | elapsed:  2.0min\n",
            "building tree 97 of 200[Parallel(n_jobs=-1)]: Done  95 tasks      | elapsed:  2.0min\n",
            "\n",
            "building tree 98 of 200[Parallel(n_jobs=-1)]: Done  96 tasks      | elapsed:  2.0min\n",
            "\n",
            "building tree 99 of 200[Parallel(n_jobs=-1)]: Done  97 tasks      | elapsed:  2.0min\n",
            "\n",
            "building tree 100 of 200[Parallel(n_jobs=-1)]: Done  98 tasks      | elapsed:  2.0min\n",
            "\n",
            "building tree 101 of 200[Parallel(n_jobs=-1)]: Done  99 tasks      | elapsed:  2.1min\n",
            "\n",
            "building tree 102 of 200\n",
            "[Parallel(n_jobs=-1)]: Done 100 tasks      | elapsed:  2.1min\n",
            "building tree 103 of 200[Parallel(n_jobs=-1)]: Done 101 tasks      | elapsed:  2.1min\n",
            "\n",
            "building tree 104 of 200\n",
            "[Parallel(n_jobs=-1)]: Done 102 tasks      | elapsed:  2.1min\n",
            "building tree 105 of 200[Parallel(n_jobs=-1)]: Done 103 tasks      | elapsed:  2.1min\n",
            "\n",
            "building tree 106 of 200\n",
            "[Parallel(n_jobs=-1)]: Done 104 tasks      | elapsed:  2.1min\n",
            "building tree 107 of 200[Parallel(n_jobs=-1)]: Done 105 tasks      | elapsed:  2.2min\n",
            "\n",
            "building tree 108 of 200\n",
            "[Parallel(n_jobs=-1)]: Done 106 tasks      | elapsed:  2.2min\n",
            "building tree 109 of 200[Parallel(n_jobs=-1)]: Done 107 tasks      | elapsed:  2.2min\n",
            "\n",
            "building tree 110 of 200[Parallel(n_jobs=-1)]: Done 108 tasks      | elapsed:  2.2min\n",
            "\n",
            "building tree 111 of 200[Parallel(n_jobs=-1)]: Done 109 tasks      | elapsed:  2.3min\n",
            "\n",
            "building tree 112 of 200[Parallel(n_jobs=-1)]: Done 110 tasks      | elapsed:  2.3min\n",
            "\n",
            "building tree 113 of 200\n",
            "[Parallel(n_jobs=-1)]: Done 111 tasks      | elapsed:  2.3min\n",
            "building tree 114 of 200[Parallel(n_jobs=-1)]: Done 112 tasks      | elapsed:  2.3min\n",
            "\n",
            "building tree 115 of 200[Parallel(n_jobs=-1)]: Done 113 tasks      | elapsed:  2.3min\n",
            "\n",
            "building tree 116 of 200[Parallel(n_jobs=-1)]: Done 114 tasks      | elapsed:  2.4min\n",
            "\n",
            "building tree 117 of 200[Parallel(n_jobs=-1)]: Done 115 tasks      | elapsed:  2.4min\n",
            "\n",
            "building tree 118 of 200[Parallel(n_jobs=-1)]: Done 116 tasks      | elapsed:  2.4min\n",
            "\n",
            "building tree 119 of 200[Parallel(n_jobs=-1)]: Done 117 tasks      | elapsed:  2.4min\n",
            "\n",
            "building tree 120 of 200[Parallel(n_jobs=-1)]: Done 118 tasks      | elapsed:  2.4min\n",
            "\n",
            "building tree 121 of 200[Parallel(n_jobs=-1)]: Done 119 tasks      | elapsed:  2.5min\n",
            "\n",
            "building tree 122 of 200\n",
            "[Parallel(n_jobs=-1)]: Done 120 tasks      | elapsed:  2.5min\n",
            "building tree 123 of 200[Parallel(n_jobs=-1)]: Done 121 tasks      | elapsed:  2.5min\n",
            "\n",
            "building tree 124 of 200[Parallel(n_jobs=-1)]: Done 122 tasks      | elapsed:  2.5min\n",
            "\n",
            "building tree 125 of 200[Parallel(n_jobs=-1)]: Done 123 tasks      | elapsed:  2.6min\n",
            "\n",
            "building tree 126 of 200\n",
            "[Parallel(n_jobs=-1)]: Done 124 tasks      | elapsed:  2.6min\n",
            "building tree 127 of 200[Parallel(n_jobs=-1)]: Done 125 tasks      | elapsed:  2.6min\n",
            "\n",
            "building tree 128 of 200[Parallel(n_jobs=-1)]: Done 126 tasks      | elapsed:  2.6min\n",
            "\n",
            "building tree 129 of 200[Parallel(n_jobs=-1)]: Done 127 tasks      | elapsed:  2.6min\n",
            "\n",
            "building tree 130 of 200[Parallel(n_jobs=-1)]: Done 128 tasks      | elapsed:  2.7min\n",
            "\n",
            "building tree 131 of 200\n",
            "[Parallel(n_jobs=-1)]: Done 129 tasks      | elapsed:  2.7min\n",
            "building tree 132 of 200[Parallel(n_jobs=-1)]: Done 130 tasks      | elapsed:  2.7min\n",
            "\n",
            "building tree 133 of 200[Parallel(n_jobs=-1)]: Done 131 tasks      | elapsed:  2.7min\n",
            "\n",
            "building tree 134 of 200[Parallel(n_jobs=-1)]: Done 132 tasks      | elapsed:  2.7min\n",
            "\n",
            "building tree 135 of 200[Parallel(n_jobs=-1)]: Done 133 tasks      | elapsed:  2.8min\n",
            "\n",
            "building tree 136 of 200[Parallel(n_jobs=-1)]: Done 134 tasks      | elapsed:  2.8min\n",
            "\n",
            "building tree 137 of 200[Parallel(n_jobs=-1)]: Done 135 tasks      | elapsed:  2.8min\n",
            "\n",
            "building tree 138 of 200\n",
            "[Parallel(n_jobs=-1)]: Done 136 tasks      | elapsed:  2.8min\n",
            "building tree 139 of 200[Parallel(n_jobs=-1)]: Done 137 tasks      | elapsed:  2.8min\n",
            "\n",
            "building tree 140 of 200[Parallel(n_jobs=-1)]: Done 138 tasks      | elapsed:  2.9min\n",
            "\n",
            "building tree 141 of 200[Parallel(n_jobs=-1)]: Done 139 tasks      | elapsed:  2.9min\n",
            "\n",
            "building tree 142 of 200[Parallel(n_jobs=-1)]: Done 140 tasks      | elapsed:  2.9min\n",
            "\n",
            "building tree 143 of 200[Parallel(n_jobs=-1)]: Done 141 tasks      | elapsed:  2.9min\n",
            "\n",
            "building tree 144 of 200\n",
            "[Parallel(n_jobs=-1)]: Done 142 tasks      | elapsed:  2.9min\n",
            "building tree 145 of 200[Parallel(n_jobs=-1)]: Done 143 tasks      | elapsed:  3.0min\n",
            "\n",
            "building tree 146 of 200[Parallel(n_jobs=-1)]: Done 144 tasks      | elapsed:  3.0min\n",
            "\n",
            "building tree 147 of 200[Parallel(n_jobs=-1)]: Done 145 tasks      | elapsed:  3.0min\n",
            "\n",
            "building tree 148 of 200\n",
            "[Parallel(n_jobs=-1)]: Done 146 tasks      | elapsed:  3.0min\n",
            "building tree 149 of 200[Parallel(n_jobs=-1)]: Done 147 tasks      | elapsed:  3.1min\n",
            "\n",
            "building tree 150 of 200[Parallel(n_jobs=-1)]: Done 148 tasks      | elapsed:  3.1min\n",
            "\n",
            "building tree 151 of 200[Parallel(n_jobs=-1)]: Done 149 tasks      | elapsed:  3.1min\n",
            "\n",
            "building tree 152 of 200[Parallel(n_jobs=-1)]: Done 150 tasks      | elapsed:  3.1min\n",
            "\n",
            "building tree 153 of 200[Parallel(n_jobs=-1)]: Done 151 tasks      | elapsed:  3.1min\n",
            "\n",
            "building tree 154 of 200[Parallel(n_jobs=-1)]: Done 152 tasks      | elapsed:  3.1min\n",
            "\n",
            "building tree 155 of 200[Parallel(n_jobs=-1)]: Done 153 tasks      | elapsed:  3.2min\n",
            "\n",
            "building tree 156 of 200[Parallel(n_jobs=-1)]: Done 154 tasks      | elapsed:  3.2min\n",
            "\n",
            "building tree 157 of 200[Parallel(n_jobs=-1)]: Done 155 tasks      | elapsed:  3.2min\n",
            "\n",
            "building tree 158 of 200[Parallel(n_jobs=-1)]: Done 156 tasks      | elapsed:  3.2min\n",
            "\n",
            "building tree 159 of 200[Parallel(n_jobs=-1)]: Done 157 tasks      | elapsed:  3.3min\n",
            "\n",
            "building tree 160 of 200[Parallel(n_jobs=-1)]: Done 158 tasks      | elapsed:  3.3min\n",
            "\n",
            "building tree 161 of 200[Parallel(n_jobs=-1)]: Done 159 tasks      | elapsed:  3.3min\n",
            "\n",
            "building tree 162 of 200[Parallel(n_jobs=-1)]: Done 160 tasks      | elapsed:  3.3min\n",
            "\n",
            "building tree 163 of 200[Parallel(n_jobs=-1)]: Done 161 tasks      | elapsed:  3.3min\n",
            "\n",
            "building tree 164 of 200[Parallel(n_jobs=-1)]: Done 162 tasks      | elapsed:  3.3min\n",
            "\n",
            "building tree 165 of 200[Parallel(n_jobs=-1)]: Done 163 tasks      | elapsed:  3.4min\n",
            "\n",
            "building tree 166 of 200[Parallel(n_jobs=-1)]: Done 164 tasks      | elapsed:  3.4min\n",
            "\n",
            "building tree 167 of 200[Parallel(n_jobs=-1)]: Done 165 tasks      | elapsed:  3.4min\n",
            "\n",
            "building tree 168 of 200[Parallel(n_jobs=-1)]: Done 166 tasks      | elapsed:  3.4min\n",
            "\n",
            "building tree 169 of 200[Parallel(n_jobs=-1)]: Done 167 tasks      | elapsed:  3.4min\n",
            "\n",
            "building tree 170 of 200[Parallel(n_jobs=-1)]: Done 168 tasks      | elapsed:  3.5min\n",
            "\n",
            "building tree 171 of 200[Parallel(n_jobs=-1)]: Done 169 tasks      | elapsed:  3.5min\n",
            "\n",
            "building tree 172 of 200[Parallel(n_jobs=-1)]: Done 170 tasks      | elapsed:  3.5min\n",
            "\n",
            "building tree 173 of 200[Parallel(n_jobs=-1)]: Done 171 tasks      | elapsed:  3.5min\n",
            "\n",
            "building tree 174 of 200[Parallel(n_jobs=-1)]: Done 172 tasks      | elapsed:  3.5min\n",
            "\n",
            "building tree 175 of 200[Parallel(n_jobs=-1)]: Done 173 tasks      | elapsed:  3.6min\n",
            "\n",
            "building tree 176 of 200[Parallel(n_jobs=-1)]: Done 174 tasks      | elapsed:  3.6min\n",
            "\n",
            "building tree 177 of 200[Parallel(n_jobs=-1)]: Done 175 tasks      | elapsed:  3.6min\n",
            "\n",
            "building tree 178 of 200[Parallel(n_jobs=-1)]: Done 176 tasks      | elapsed:  3.6min\n",
            "\n",
            "building tree 179 of 200[Parallel(n_jobs=-1)]: Done 177 tasks      | elapsed:  3.6min\n",
            "\n",
            "building tree 180 of 200\n",
            "[Parallel(n_jobs=-1)]: Done 178 tasks      | elapsed:  3.6min\n",
            "building tree 181 of 200[Parallel(n_jobs=-1)]: Done 179 tasks      | elapsed:  3.7min\n",
            "\n",
            "building tree 182 of 200[Parallel(n_jobs=-1)]: Done 180 tasks      | elapsed:  3.7min\n",
            "\n",
            "building tree 183 of 200[Parallel(n_jobs=-1)]: Done 181 tasks      | elapsed:  3.7min\n",
            "\n",
            "building tree 184 of 200\n",
            "[Parallel(n_jobs=-1)]: Done 182 tasks      | elapsed:  3.7min\n",
            "building tree 185 of 200[Parallel(n_jobs=-1)]: Done 183 tasks      | elapsed:  3.8min\n",
            "\n",
            "building tree 186 of 200\n",
            "[Parallel(n_jobs=-1)]: Done 184 tasks      | elapsed:  3.8min\n",
            "building tree 187 of 200[Parallel(n_jobs=-1)]: Done 185 tasks      | elapsed:  3.8min\n",
            "\n",
            "building tree 188 of 200\n",
            "[Parallel(n_jobs=-1)]: Done 186 tasks      | elapsed:  3.8min\n",
            "building tree 189 of 200[Parallel(n_jobs=-1)]: Done 187 tasks      | elapsed:  3.9min\n",
            "\n",
            "building tree 190 of 200\n",
            "[Parallel(n_jobs=-1)]: Done 188 tasks      | elapsed:  3.9min\n",
            "building tree 191 of 200[Parallel(n_jobs=-1)]: Done 189 tasks      | elapsed:  3.9min\n",
            "\n",
            "building tree 192 of 200[Parallel(n_jobs=-1)]: Done 190 tasks      | elapsed:  3.9min\n",
            "\n",
            "building tree 193 of 200[Parallel(n_jobs=-1)]: Done 191 tasks      | elapsed:  3.9min\n",
            "\n",
            "building tree 194 of 200[Parallel(n_jobs=-1)]: Done 192 tasks      | elapsed:  3.9min\n",
            "\n",
            "building tree 195 of 200[Parallel(n_jobs=-1)]: Done 193 tasks      | elapsed:  4.0min\n",
            "\n",
            "building tree 196 of 200[Parallel(n_jobs=-1)]: Done 194 tasks      | elapsed:  4.0min\n",
            "\n",
            "building tree 197 of 200[Parallel(n_jobs=-1)]: Done 195 tasks      | elapsed:  4.0min\n",
            "\n",
            "building tree 198 of 200[Parallel(n_jobs=-1)]: Done 196 tasks      | elapsed:  4.0min\n",
            "\n",
            "building tree 199 of 200\n",
            "[Parallel(n_jobs=-1)]: Done 197 tasks      | elapsed:  4.0min\n",
            "building tree 200 of 200\n",
            "[Parallel(n_jobs=-1)]: Done 200 out of 200 | elapsed:  4.1min finished\n",
            "[Parallel(n_jobs=2)]: Using backend ThreadingBackend with 2 concurrent workers.\n",
            "[Parallel(n_jobs=2)]: Done   1 tasks      | elapsed:    0.0s\n",
            "[Parallel(n_jobs=2)]: Done   2 tasks      | elapsed:    0.0s\n",
            "[Parallel(n_jobs=2)]: Done   3 tasks      | elapsed:    0.0s\n",
            "[Parallel(n_jobs=2)]: Done   4 tasks      | elapsed:    0.0s\n",
            "[Parallel(n_jobs=2)]: Done   5 tasks      | elapsed:    0.0s\n",
            "[Parallel(n_jobs=2)]: Done   6 tasks      | elapsed:    0.0s\n",
            "[Parallel(n_jobs=2)]: Done   7 tasks      | elapsed:    0.0s\n",
            "[Parallel(n_jobs=2)]: Done   8 tasks      | elapsed:    0.0s\n",
            "[Parallel(n_jobs=2)]: Done   9 tasks      | elapsed:    0.0s\n",
            "[Parallel(n_jobs=2)]: Done  10 tasks      | elapsed:    0.0s\n",
            "[Parallel(n_jobs=2)]: Done  11 tasks      | elapsed:    0.0s\n",
            "[Parallel(n_jobs=2)]: Done  12 tasks      | elapsed:    0.0s\n",
            "[Parallel(n_jobs=2)]: Done  13 tasks      | elapsed:    0.0s\n",
            "[Parallel(n_jobs=2)]: Done  14 tasks      | elapsed:    0.0s\n",
            "[Parallel(n_jobs=2)]: Done  15 tasks      | elapsed:    0.1s\n",
            "[Parallel(n_jobs=2)]: Done  16 tasks      | elapsed:    0.1s\n",
            "[Parallel(n_jobs=2)]: Done  17 tasks      | elapsed:    0.1s\n",
            "[Parallel(n_jobs=2)]: Done  18 tasks      | elapsed:    0.1s\n",
            "[Parallel(n_jobs=2)]: Done  19 tasks      | elapsed:    0.1s\n",
            "[Parallel(n_jobs=2)]: Done  20 tasks      | elapsed:    0.1s\n",
            "[Parallel(n_jobs=2)]: Done  21 tasks      | elapsed:    0.1s\n",
            "[Parallel(n_jobs=2)]: Done  22 tasks      | elapsed:    0.1s\n",
            "[Parallel(n_jobs=2)]: Done  23 tasks      | elapsed:    0.1s\n",
            "[Parallel(n_jobs=2)]: Done  24 tasks      | elapsed:    0.1s\n",
            "[Parallel(n_jobs=2)]: Done  25 tasks      | elapsed:    0.1s\n",
            "[Parallel(n_jobs=2)]: Done  26 tasks      | elapsed:    0.1s\n",
            "[Parallel(n_jobs=2)]: Done  27 tasks      | elapsed:    0.1s\n",
            "[Parallel(n_jobs=2)]: Done  28 tasks      | elapsed:    0.1s\n",
            "[Parallel(n_jobs=2)]: Done  29 tasks      | elapsed:    0.1s\n",
            "[Parallel(n_jobs=2)]: Done  30 tasks      | elapsed:    0.1s\n",
            "[Parallel(n_jobs=2)]: Done  31 tasks      | elapsed:    0.1s\n",
            "[Parallel(n_jobs=2)]: Done  32 tasks      | elapsed:    0.1s\n",
            "[Parallel(n_jobs=2)]: Done  33 tasks      | elapsed:    0.1s\n",
            "[Parallel(n_jobs=2)]: Done  34 tasks      | elapsed:    0.1s\n",
            "[Parallel(n_jobs=2)]: Done  35 tasks      | elapsed:    0.1s\n",
            "[Parallel(n_jobs=2)]: Done  36 tasks      | elapsed:    0.1s\n",
            "[Parallel(n_jobs=2)]: Done  37 tasks      | elapsed:    0.1s\n",
            "[Parallel(n_jobs=2)]: Done  38 tasks      | elapsed:    0.1s\n",
            "[Parallel(n_jobs=2)]: Done  39 tasks      | elapsed:    0.1s\n",
            "[Parallel(n_jobs=2)]: Done  40 tasks      | elapsed:    0.1s\n",
            "[Parallel(n_jobs=2)]: Done  41 tasks      | elapsed:    0.1s\n",
            "[Parallel(n_jobs=2)]: Done  42 tasks      | elapsed:    0.1s\n",
            "[Parallel(n_jobs=2)]: Done  43 tasks      | elapsed:    0.1s\n",
            "[Parallel(n_jobs=2)]: Done  44 tasks      | elapsed:    0.1s\n",
            "[Parallel(n_jobs=2)]: Done  45 tasks      | elapsed:    0.2s\n",
            "[Parallel(n_jobs=2)]: Done  46 tasks      | elapsed:    0.2s\n",
            "[Parallel(n_jobs=2)]: Done  47 tasks      | elapsed:    0.2s\n",
            "[Parallel(n_jobs=2)]: Done  48 tasks      | elapsed:    0.2s\n",
            "[Parallel(n_jobs=2)]: Done  49 tasks      | elapsed:    0.2s\n",
            "[Parallel(n_jobs=2)]: Done  50 tasks      | elapsed:    0.2s\n",
            "[Parallel(n_jobs=2)]: Done  51 tasks      | elapsed:    0.2s\n",
            "[Parallel(n_jobs=2)]: Done  52 tasks      | elapsed:    0.2s\n",
            "[Parallel(n_jobs=2)]: Done  53 tasks      | elapsed:    0.2s\n",
            "[Parallel(n_jobs=2)]: Done  54 tasks      | elapsed:    0.2s\n",
            "[Parallel(n_jobs=2)]: Done  55 tasks      | elapsed:    0.2s\n",
            "[Parallel(n_jobs=2)]: Done  56 tasks      | elapsed:    0.2s\n",
            "[Parallel(n_jobs=2)]: Done  57 tasks      | elapsed:    0.2s\n",
            "[Parallel(n_jobs=2)]: Done  58 tasks      | elapsed:    0.2s\n",
            "[Parallel(n_jobs=2)]: Done  59 tasks      | elapsed:    0.2s\n",
            "[Parallel(n_jobs=2)]: Done  60 tasks      | elapsed:    0.2s\n",
            "[Parallel(n_jobs=2)]: Done  61 tasks      | elapsed:    0.2s\n",
            "[Parallel(n_jobs=2)]: Done  62 tasks      | elapsed:    0.2s\n",
            "[Parallel(n_jobs=2)]: Done  63 tasks      | elapsed:    0.2s\n",
            "[Parallel(n_jobs=2)]: Done  64 tasks      | elapsed:    0.2s\n",
            "[Parallel(n_jobs=2)]: Done  65 tasks      | elapsed:    0.2s\n",
            "[Parallel(n_jobs=2)]: Done  66 tasks      | elapsed:    0.2s\n",
            "[Parallel(n_jobs=2)]: Done  67 tasks      | elapsed:    0.2s\n",
            "[Parallel(n_jobs=2)]: Done  68 tasks      | elapsed:    0.2s\n",
            "[Parallel(n_jobs=2)]: Done  69 tasks      | elapsed:    0.2s\n",
            "[Parallel(n_jobs=2)]: Done  70 tasks      | elapsed:    0.2s\n",
            "[Parallel(n_jobs=2)]: Done  71 tasks      | elapsed:    0.2s\n",
            "[Parallel(n_jobs=2)]: Done  72 tasks      | elapsed:    0.2s\n",
            "[Parallel(n_jobs=2)]: Done  73 tasks      | elapsed:    0.2s\n",
            "[Parallel(n_jobs=2)]: Done  74 tasks      | elapsed:    0.3s\n",
            "[Parallel(n_jobs=2)]: Done  75 tasks      | elapsed:    0.3s\n",
            "[Parallel(n_jobs=2)]: Done  76 tasks      | elapsed:    0.3s\n",
            "[Parallel(n_jobs=2)]: Done  77 tasks      | elapsed:    0.3s\n",
            "[Parallel(n_jobs=2)]: Done  78 tasks      | elapsed:    0.3s\n",
            "[Parallel(n_jobs=2)]: Done  79 tasks      | elapsed:    0.3s\n",
            "[Parallel(n_jobs=2)]: Done  80 tasks      | elapsed:    0.3s\n",
            "[Parallel(n_jobs=2)]: Done  81 tasks      | elapsed:    0.3s\n",
            "[Parallel(n_jobs=2)]: Done  82 tasks      | elapsed:    0.3s\n",
            "[Parallel(n_jobs=2)]: Done  83 tasks      | elapsed:    0.3s\n",
            "[Parallel(n_jobs=2)]: Done  84 tasks      | elapsed:    0.3s\n",
            "[Parallel(n_jobs=2)]: Done  85 tasks      | elapsed:    0.3s\n",
            "[Parallel(n_jobs=2)]: Done  86 tasks      | elapsed:    0.3s\n",
            "[Parallel(n_jobs=2)]: Done  87 tasks      | elapsed:    0.3s\n",
            "[Parallel(n_jobs=2)]: Done  88 tasks      | elapsed:    0.3s\n",
            "[Parallel(n_jobs=2)]: Done  89 tasks      | elapsed:    0.3s\n",
            "[Parallel(n_jobs=2)]: Done  90 tasks      | elapsed:    0.3s\n",
            "[Parallel(n_jobs=2)]: Done  91 tasks      | elapsed:    0.3s\n",
            "[Parallel(n_jobs=2)]: Done  92 tasks      | elapsed:    0.3s\n",
            "[Parallel(n_jobs=2)]: Done  93 tasks      | elapsed:    0.3s\n",
            "[Parallel(n_jobs=2)]: Done  94 tasks      | elapsed:    0.3s\n",
            "[Parallel(n_jobs=2)]: Done  95 tasks      | elapsed:    0.3s\n",
            "[Parallel(n_jobs=2)]: Done  96 tasks      | elapsed:    0.3s\n",
            "[Parallel(n_jobs=2)]: Done  97 tasks      | elapsed:    0.3s\n",
            "[Parallel(n_jobs=2)]: Done  98 tasks      | elapsed:    0.3s\n",
            "[Parallel(n_jobs=2)]: Done  99 tasks      | elapsed:    0.3s\n",
            "[Parallel(n_jobs=2)]: Done 100 tasks      | elapsed:    0.3s\n",
            "[Parallel(n_jobs=2)]: Done 101 tasks      | elapsed:    0.3s\n",
            "[Parallel(n_jobs=2)]: Done 102 tasks      | elapsed:    0.3s\n",
            "[Parallel(n_jobs=2)]: Done 103 tasks      | elapsed:    0.3s\n",
            "[Parallel(n_jobs=2)]: Done 104 tasks      | elapsed:    0.3s\n",
            "[Parallel(n_jobs=2)]: Done 105 tasks      | elapsed:    0.4s\n",
            "[Parallel(n_jobs=2)]: Done 106 tasks      | elapsed:    0.4s\n",
            "[Parallel(n_jobs=2)]: Done 107 tasks      | elapsed:    0.4s\n",
            "[Parallel(n_jobs=2)]: Done 108 tasks      | elapsed:    0.4s\n",
            "[Parallel(n_jobs=2)]: Done 109 tasks      | elapsed:    0.4s\n",
            "[Parallel(n_jobs=2)]: Done 110 tasks      | elapsed:    0.4s\n",
            "[Parallel(n_jobs=2)]: Done 111 tasks      | elapsed:    0.4s\n",
            "[Parallel(n_jobs=2)]: Done 112 tasks      | elapsed:    0.4s\n",
            "[Parallel(n_jobs=2)]: Done 113 tasks      | elapsed:    0.4s\n",
            "[Parallel(n_jobs=2)]: Done 114 tasks      | elapsed:    0.4s\n",
            "[Parallel(n_jobs=2)]: Done 115 tasks      | elapsed:    0.4s\n",
            "[Parallel(n_jobs=2)]: Done 116 tasks      | elapsed:    0.4s\n",
            "[Parallel(n_jobs=2)]: Done 117 tasks      | elapsed:    0.4s\n",
            "[Parallel(n_jobs=2)]: Done 118 tasks      | elapsed:    0.4s\n",
            "[Parallel(n_jobs=2)]: Done 119 tasks      | elapsed:    0.4s\n",
            "[Parallel(n_jobs=2)]: Done 120 tasks      | elapsed:    0.4s\n",
            "[Parallel(n_jobs=2)]: Done 121 tasks      | elapsed:    0.4s\n",
            "[Parallel(n_jobs=2)]: Done 122 tasks      | elapsed:    0.4s\n",
            "[Parallel(n_jobs=2)]: Done 123 tasks      | elapsed:    0.4s\n",
            "[Parallel(n_jobs=2)]: Done 124 tasks      | elapsed:    0.4s\n",
            "[Parallel(n_jobs=2)]: Done 125 tasks      | elapsed:    0.4s\n",
            "[Parallel(n_jobs=2)]: Done 126 tasks      | elapsed:    0.4s\n",
            "[Parallel(n_jobs=2)]: Done 127 tasks      | elapsed:    0.4s\n",
            "[Parallel(n_jobs=2)]: Done 128 tasks      | elapsed:    0.4s\n",
            "[Parallel(n_jobs=2)]: Done 129 tasks      | elapsed:    0.4s\n",
            "[Parallel(n_jobs=2)]: Done 130 tasks      | elapsed:    0.4s\n",
            "[Parallel(n_jobs=2)]: Done 131 tasks      | elapsed:    0.4s\n",
            "[Parallel(n_jobs=2)]: Done 132 tasks      | elapsed:    0.4s\n",
            "[Parallel(n_jobs=2)]: Done 133 tasks      | elapsed:    0.5s\n",
            "[Parallel(n_jobs=2)]: Done 134 tasks      | elapsed:    0.5s\n",
            "[Parallel(n_jobs=2)]: Done 135 tasks      | elapsed:    0.5s\n",
            "[Parallel(n_jobs=2)]: Done 136 tasks      | elapsed:    0.5s\n",
            "[Parallel(n_jobs=2)]: Done 137 tasks      | elapsed:    0.5s\n",
            "[Parallel(n_jobs=2)]: Done 138 tasks      | elapsed:    0.5s\n",
            "[Parallel(n_jobs=2)]: Done 139 tasks      | elapsed:    0.5s\n",
            "[Parallel(n_jobs=2)]: Done 140 tasks      | elapsed:    0.5s\n",
            "[Parallel(n_jobs=2)]: Done 141 tasks      | elapsed:    0.5s\n",
            "[Parallel(n_jobs=2)]: Done 142 tasks      | elapsed:    0.5s\n",
            "[Parallel(n_jobs=2)]: Done 143 tasks      | elapsed:    0.5s\n",
            "[Parallel(n_jobs=2)]: Done 144 tasks      | elapsed:    0.5s\n",
            "[Parallel(n_jobs=2)]: Done 145 tasks      | elapsed:    0.5s\n",
            "[Parallel(n_jobs=2)]: Done 146 tasks      | elapsed:    0.5s\n",
            "[Parallel(n_jobs=2)]: Done 147 tasks      | elapsed:    0.5s\n",
            "[Parallel(n_jobs=2)]: Done 148 tasks      | elapsed:    0.5s\n",
            "[Parallel(n_jobs=2)]: Done 149 tasks      | elapsed:    0.5s\n",
            "[Parallel(n_jobs=2)]: Done 150 tasks      | elapsed:    0.5s\n",
            "[Parallel(n_jobs=2)]: Done 151 tasks      | elapsed:    0.5s\n",
            "[Parallel(n_jobs=2)]: Done 152 tasks      | elapsed:    0.5s\n",
            "[Parallel(n_jobs=2)]: Done 153 tasks      | elapsed:    0.5s\n",
            "[Parallel(n_jobs=2)]: Done 154 tasks      | elapsed:    0.5s\n",
            "[Parallel(n_jobs=2)]: Done 155 tasks      | elapsed:    0.5s\n",
            "[Parallel(n_jobs=2)]: Done 156 tasks      | elapsed:    0.5s\n",
            "[Parallel(n_jobs=2)]: Done 157 tasks      | elapsed:    0.5s\n",
            "[Parallel(n_jobs=2)]: Done 158 tasks      | elapsed:    0.5s\n",
            "[Parallel(n_jobs=2)]: Done 159 tasks      | elapsed:    0.5s\n",
            "[Parallel(n_jobs=2)]: Done 160 tasks      | elapsed:    0.5s\n",
            "[Parallel(n_jobs=2)]: Done 161 tasks      | elapsed:    0.5s\n",
            "[Parallel(n_jobs=2)]: Done 162 tasks      | elapsed:    0.5s\n",
            "[Parallel(n_jobs=2)]: Done 163 tasks      | elapsed:    0.5s\n",
            "[Parallel(n_jobs=2)]: Done 164 tasks      | elapsed:    0.5s\n",
            "[Parallel(n_jobs=2)]: Done 165 tasks      | elapsed:    0.5s\n",
            "[Parallel(n_jobs=2)]: Done 166 tasks      | elapsed:    0.5s\n",
            "[Parallel(n_jobs=2)]: Done 167 tasks      | elapsed:    0.5s\n",
            "[Parallel(n_jobs=2)]: Done 168 tasks      | elapsed:    0.5s\n",
            "[Parallel(n_jobs=2)]: Done 169 tasks      | elapsed:    0.5s\n",
            "[Parallel(n_jobs=2)]: Done 170 tasks      | elapsed:    0.5s\n",
            "[Parallel(n_jobs=2)]: Done 171 tasks      | elapsed:    0.5s\n",
            "[Parallel(n_jobs=2)]: Done 172 tasks      | elapsed:    0.5s\n",
            "[Parallel(n_jobs=2)]: Done 173 tasks      | elapsed:    0.5s\n",
            "[Parallel(n_jobs=2)]: Done 174 tasks      | elapsed:    0.5s\n",
            "[Parallel(n_jobs=2)]: Done 175 tasks      | elapsed:    0.5s\n",
            "[Parallel(n_jobs=2)]: Done 176 tasks      | elapsed:    0.5s\n",
            "[Parallel(n_jobs=2)]: Done 177 tasks      | elapsed:    0.5s\n",
            "[Parallel(n_jobs=2)]: Done 178 tasks      | elapsed:    0.5s\n",
            "[Parallel(n_jobs=2)]: Done 179 tasks      | elapsed:    0.5s\n",
            "[Parallel(n_jobs=2)]: Done 180 tasks      | elapsed:    0.5s\n",
            "[Parallel(n_jobs=2)]: Done 181 tasks      | elapsed:    0.5s\n",
            "[Parallel(n_jobs=2)]: Done 182 tasks      | elapsed:    0.5s\n",
            "[Parallel(n_jobs=2)]: Done 183 tasks      | elapsed:    0.6s\n",
            "[Parallel(n_jobs=2)]: Done 184 tasks      | elapsed:    0.6s\n",
            "[Parallel(n_jobs=2)]: Done 185 tasks      | elapsed:    0.6s\n",
            "[Parallel(n_jobs=2)]: Done 186 tasks      | elapsed:    0.6s\n",
            "[Parallel(n_jobs=2)]: Done 187 tasks      | elapsed:    0.6s\n",
            "[Parallel(n_jobs=2)]: Done 188 tasks      | elapsed:    0.6s\n",
            "[Parallel(n_jobs=2)]: Done 189 tasks      | elapsed:    0.6s\n",
            "[Parallel(n_jobs=2)]: Done 190 tasks      | elapsed:    0.6s\n",
            "[Parallel(n_jobs=2)]: Done 191 tasks      | elapsed:    0.6s\n",
            "[Parallel(n_jobs=2)]: Done 192 tasks      | elapsed:    0.6s\n",
            "[Parallel(n_jobs=2)]: Done 193 tasks      | elapsed:    0.6s\n",
            "[Parallel(n_jobs=2)]: Done 194 tasks      | elapsed:    0.6s\n",
            "[Parallel(n_jobs=2)]: Done 195 tasks      | elapsed:    0.6s\n",
            "[Parallel(n_jobs=2)]: Done 196 tasks      | elapsed:    0.6s\n",
            "[Parallel(n_jobs=2)]: Done 197 tasks      | elapsed:    0.6s\n",
            "[Parallel(n_jobs=2)]: Done 200 out of 200 | elapsed:    0.6s finished\n",
            "RandomForest    AUROC 0.9750  AUPRC 0.8221\n"
          ]
        }
      ]
    },
    {
      "cell_type": "code",
      "source": [
        "# XGBoost\n",
        "\n",
        "xgb = XGBClassifier(\n",
        "        n_estimators=300,\n",
        "        max_depth=6,\n",
        "        eta=0.1,\n",
        "        subsample=0.9,\n",
        "        colsample_bytree=0.9,\n",
        "        objective='binary:logistic',\n",
        "        eval_metric='aucpr',\n",
        "        tree_method='hist',\n",
        "        random_state=RANDOM,\n",
        "        n_jobs=-1)\n",
        "\n",
        "xgb.fit(Xs, ys,\n",
        "        eval_set=[(X_val, y_val)],\n",
        "        verbose=200)\n",
        "p_xgb = run_and_eval(xgb, \"XGBoost\")\n",
        "joblib.dump(xgb, '/content/models/xgboost.pkl');\n"
      ],
      "metadata": {
        "colab": {
          "base_uri": "https://localhost:8080/"
        },
        "id": "-yyrWzI9Je2T",
        "outputId": "ce93f7f7-dbde-42e1-caaf-2852f3782eb7"
      },
      "execution_count": 45,
      "outputs": [
        {
          "output_type": "stream",
          "name": "stdout",
          "text": [
            "[0]\tvalidation_0-aucpr:0.54868\n",
            "[200]\tvalidation_0-aucpr:0.82007\n",
            "[299]\tvalidation_0-aucpr:0.82790\n",
            "XGBoost         AUROC 0.9850  AUPRC 0.8281\n"
          ]
        }
      ]
    },
    {
      "cell_type": "code",
      "source": [
        "curves = [(\"LogReg\",p_log), (\"RF\",p_rf), (\"XGB\",p_xgb)]\n",
        "plt.figure(figsize=(6,4))\n",
        "for label,p in curves:\n",
        "    pr, rec, _ = precision_recall_curve(y_val, p)\n",
        "    plt.plot(rec, pr, label=label)\n",
        "plt.xlabel('Recall'); plt.ylabel('Precision'); plt.title('Val PR Curve')\n",
        "plt.legend(); plt.tight_layout(); plt.show()"
      ],
      "metadata": {
        "colab": {
          "base_uri": "https://localhost:8080/",
          "height": 407
        },
        "id": "tS3wmOID4LHR",
        "outputId": "0c68379e-42f8-43e7-8a67-153dad813708"
      },
      "execution_count": 46,
      "outputs": [
        {
          "output_type": "display_data",
          "data": {
            "text/plain": [
              "<Figure size 600x400 with 1 Axes>"
            ],
            "image/png": "[encoded data removed]"
          },
          "metadata": {}
        }
      ]
    },
    {
      "cell_type": "markdown",
      "source": [
        "# 🤖 6 · Neural-Network v1  ‒  Dense Classifier\n",
        "\n",
        "*Objective:* build a simple feed-forward net that beats XGBoost baseline  \n",
        "(AUPRC = 0.828) on the validation set."
      ],
      "metadata": {
        "id": "F0JRlxsoduu1"
      }
    },
    {
      "cell_type": "code",
      "source": [
        "SEED = 42\n",
        "tf.random.set_seed(SEED); np.random.seed(SEED); random.seed(SEED)\n",
        "\n",
        "# load splits\n",
        "X_train = np.load('/content/data/processed/X_train.npy')\n",
        "y_train = np.load('/content/data/processed/y_train.npy')\n",
        "X_val   = np.load('/content/data/processed/X_val.npy')\n",
        "y_val   = np.load('/content/data/processed/y_val.npy')\n",
        "\n",
        "# SMOTE again (same 1:10 ratio)\n",
        "sm = SMOTE(sampling_strategy=0.1, random_state=SEED)\n",
        "Xs, ys = sm.fit_resample(X_train, y_train)\n",
        "print(\"Train shape after SMOTE:\", Xs.shape, \"  Fraud ratio:\", ys.mean().round(4))"
      ],
      "metadata": {
        "colab": {
          "base_uri": "https://localhost:8080/"
        },
        "id": "AlYDAaALd3FN",
        "outputId": "01e923ea-00d7-4210-9312-474b73f0026d"
      },
      "execution_count": 50,
      "outputs": [
        {
          "output_type": "stream",
          "name": "stdout",
          "text": [
            "Train shape after SMOTE: (218922, 30)   Fraud ratio: 0.0909\n"
          ]
        }
      ]
    },
    {
      "cell_type": "code",
      "source": [
        "def make_model(input_dim):\n",
        "    model = models.Sequential([\n",
        "        layers.Input(shape=(input_dim,)),\n",
        "        layers.Dense(512), layers.BatchNormalization(), layers.Activation('relu'),\n",
        "        layers.Dropout(0.3),\n",
        "\n",
        "        layers.Dense(256), layers.BatchNormalization(), layers.Activation('relu'),\n",
        "        layers.Dropout(0.3),\n",
        "\n",
        "        layers.Dense(128), layers.BatchNormalization(), layers.Activation('relu'),\n",
        "        layers.Dropout(0.2),\n",
        "\n",
        "        layers.Dense(1, activation='sigmoid')\n",
        "    ])\n",
        "    model.compile(\n",
        "        optimizer=tf.keras.optimizers.Adam(1e-3),\n",
        "        loss='binary_crossentropy',\n",
        "        metrics=[tf.keras.metrics.AUC(name='auroc'),\n",
        "                 tf.keras.metrics.AUC(name='auprc', curve='PR')]\n",
        "    )\n",
        "    return model"
      ],
      "metadata": {
        "id": "2jh9mPNHeJcT"
      },
      "execution_count": 51,
      "outputs": []
    },
    {
      "cell_type": "code",
      "source": [
        "model = make_model(Xs.shape[1])\n",
        "es = callbacks.EarlyStopping(monitor='val_auprc', mode='max',\n",
        "                             patience=7, restore_best_weights=True)\n",
        "logdir = \"/content/logs/nn_v1/\" + datetime.datetime.now().strftime(\"%Y%m%d-%H%M%S\")\n",
        "tb = callbacks.TensorBoard(logdir, histogram_freq=1, write_graph=False)\n",
        "\n",
        "history = model.fit(\n",
        "    Xs, ys,\n",
        "    epochs=50,\n",
        "    batch_size=1024,\n",
        "    validation_data=(X_val, y_val),\n",
        "    callbacks=[es, tb],\n",
        "    verbose=2\n",
        ")"
      ],
      "metadata": {
        "colab": {
          "base_uri": "https://localhost:8080/"
        },
        "id": "YbF8eUaleUME",
        "outputId": "a40a4fc2-b9e4-4467-dcb0-7e1e34597163"
      },
      "execution_count": 54,
      "outputs": [
        {
          "output_type": "stream",
          "name": "stdout",
          "text": [
            "Epoch 1/50\n",
            "214/214 - 20s - 93ms/step - auprc: 0.9468 - auroc: 0.9868 - loss: 0.0734 - val_auprc: 0.6578 - val_auroc: 0.9592 - val_loss: 0.0160\n",
            "Epoch 2/50\n",
            "214/214 - 2s - 8ms/step - auprc: 0.9898 - auroc: 0.9985 - loss: 0.0250 - val_auprc: 0.6580 - val_auroc: 0.9419 - val_loss: 0.0082\n",
            "Epoch 3/50\n",
            "214/214 - 2s - 11ms/step - auprc: 0.9946 - auroc: 0.9995 - loss: 0.0164 - val_auprc: 0.6602 - val_auroc: 0.9432 - val_loss: 0.0069\n",
            "Epoch 4/50\n",
            "214/214 - 2s - 7ms/step - auprc: 0.9964 - auroc: 0.9997 - loss: 0.0119 - val_auprc: 0.6594 - val_auroc: 0.9237 - val_loss: 0.0063\n",
            "Epoch 5/50\n",
            "214/214 - 3s - 13ms/step - auprc: 0.9976 - auroc: 0.9998 - loss: 0.0089 - val_auprc: 0.7046 - val_auroc: 0.9241 - val_loss: 0.0056\n",
            "Epoch 6/50\n",
            "214/214 - 2s - 8ms/step - auprc: 0.9981 - auroc: 0.9998 - loss: 0.0075 - val_auprc: 0.6986 - val_auroc: 0.9306 - val_loss: 0.0065\n",
            "Epoch 7/50\n",
            "214/214 - 2s - 7ms/step - auprc: 0.9980 - auroc: 0.9999 - loss: 0.0066 - val_auprc: 0.7402 - val_auroc: 0.9111 - val_loss: 0.0054\n",
            "Epoch 8/50\n",
            "214/214 - 2s - 11ms/step - auprc: 0.9986 - auroc: 0.9999 - loss: 0.0053 - val_auprc: 0.7548 - val_auroc: 0.9115 - val_loss: 0.0048\n",
            "Epoch 9/50\n",
            "214/214 - 3s - 13ms/step - auprc: 0.9989 - auroc: 0.9999 - loss: 0.0049 - val_auprc: 0.7753 - val_auroc: 0.9180 - val_loss: 0.0051\n",
            "Epoch 10/50\n",
            "214/214 - 3s - 13ms/step - auprc: 0.9989 - auroc: 0.9999 - loss: 0.0041 - val_auprc: 0.7399 - val_auroc: 0.9117 - val_loss: 0.0052\n",
            "Epoch 11/50\n",
            "214/214 - 2s - 11ms/step - auprc: 0.9990 - auroc: 0.9999 - loss: 0.0040 - val_auprc: 0.7796 - val_auroc: 0.9184 - val_loss: 0.0053\n",
            "Epoch 12/50\n",
            "214/214 - 2s - 8ms/step - auprc: 0.9988 - auroc: 0.9999 - loss: 0.0037 - val_auprc: 0.7822 - val_auroc: 0.9118 - val_loss: 0.0049\n",
            "Epoch 13/50\n",
            "214/214 - 1s - 7ms/step - auprc: 0.9987 - auroc: 0.9999 - loss: 0.0039 - val_auprc: 0.7864 - val_auroc: 0.9185 - val_loss: 0.0049\n",
            "Epoch 14/50\n",
            "214/214 - 3s - 13ms/step - auprc: 0.9991 - auroc: 0.9999 - loss: 0.0031 - val_auprc: 0.7912 - val_auroc: 0.9116 - val_loss: 0.0052\n",
            "Epoch 15/50\n",
            "214/214 - 1s - 7ms/step - auprc: 0.9993 - auroc: 1.0000 - loss: 0.0030 - val_auprc: 0.7805 - val_auroc: 0.9118 - val_loss: 0.0055\n",
            "Epoch 16/50\n",
            "214/214 - 2s - 9ms/step - auprc: 0.9991 - auroc: 0.9999 - loss: 0.0029 - val_auprc: 0.7957 - val_auroc: 0.9119 - val_loss: 0.0056\n",
            "Epoch 17/50\n",
            "214/214 - 2s - 10ms/step - auprc: 0.9994 - auroc: 0.9999 - loss: 0.0030 - val_auprc: 0.8014 - val_auroc: 0.9120 - val_loss: 0.0053\n",
            "Epoch 18/50\n",
            "214/214 - 3s - 12ms/step - auprc: 0.9994 - auroc: 1.0000 - loss: 0.0025 - val_auprc: 0.8106 - val_auroc: 0.9119 - val_loss: 0.0049\n",
            "Epoch 19/50\n",
            "214/214 - 2s - 7ms/step - auprc: 0.9995 - auroc: 1.0000 - loss: 0.0023 - val_auprc: 0.7885 - val_auroc: 0.9119 - val_loss: 0.0055\n",
            "Epoch 20/50\n",
            "214/214 - 1s - 7ms/step - auprc: 0.9995 - auroc: 1.0000 - loss: 0.0025 - val_auprc: 0.8039 - val_auroc: 0.9119 - val_loss: 0.0052\n",
            "Epoch 21/50\n",
            "214/214 - 3s - 13ms/step - auprc: 0.9995 - auroc: 0.9999 - loss: 0.0022 - val_auprc: 0.7959 - val_auroc: 0.9119 - val_loss: 0.0057\n",
            "Epoch 22/50\n",
            "214/214 - 3s - 13ms/step - auprc: 0.9994 - auroc: 1.0000 - loss: 0.0023 - val_auprc: 0.7870 - val_auroc: 0.9119 - val_loss: 0.0061\n",
            "Epoch 23/50\n",
            "214/214 - 2s - 10ms/step - auprc: 0.9995 - auroc: 1.0000 - loss: 0.0020 - val_auprc: 0.7904 - val_auroc: 0.9052 - val_loss: 0.0060\n",
            "Epoch 24/50\n",
            "214/214 - 1s - 7ms/step - auprc: 0.9993 - auroc: 1.0000 - loss: 0.0022 - val_auprc: 0.7918 - val_auroc: 0.9119 - val_loss: 0.0059\n",
            "Epoch 25/50\n",
            "214/214 - 3s - 15ms/step - auprc: 0.9993 - auroc: 0.9999 - loss: 0.0020 - val_auprc: 0.7813 - val_auroc: 0.9187 - val_loss: 0.0063\n"
          ]
        }
      ]
    },
    {
      "cell_type": "code",
      "source": [
        "val_probs = model.predict(X_val, batch_size=4096).ravel()\n",
        "auroc = roc_auc_score(y_val, val_probs)\n",
        "auprc = average_precision_score(y_val, val_probs)\n",
        "print(f\"Validation  AUROC {auroc:.4f}   AUPRC {auprc:.4f}\")"
      ],
      "metadata": {
        "colab": {
          "base_uri": "https://localhost:8080/"
        },
        "id": "glg-LCpxew10",
        "outputId": "1ba8a3b3-adf6-4a9e-c1fa-9ce9762674cc"
      },
      "execution_count": 55,
      "outputs": [
        {
          "output_type": "stream",
          "name": "stdout",
          "text": [
            "\u001b[1m11/11\u001b[0m \u001b[32m━━━━━━━━━━━━━━━━━━━━\u001b[0m\u001b[37m\u001b[0m \u001b[1m1s\u001b[0m 43ms/step\n",
            "Validation  AUROC 0.9266   AUPRC 0.8143\n"
          ]
        }
      ]
    },
    {
      "cell_type": "code",
      "source": [
        "pr, rec, _ = precision_recall_curve(y_val, val_probs)\n",
        "plt.figure(figsize=(6,4))\n",
        "plt.plot(rec, pr, label=f'NN v1 (AUPRC {auprc:.3f})')\n",
        "plt.xlabel('Recall'); plt.ylabel('Precision'); plt.title('PR Curve'); plt.legend()\n",
        "plt.tight_layout(); plt.show()\n",
        "\n",
        "# ROC\n",
        "from sklearn.metrics import RocCurveDisplay\n",
        "RocCurveDisplay.from_predictions(y_val, val_probs, name=f'NN v1 (AUROC {auroc:.3f})')\n",
        "plt.show()"
      ],
      "metadata": {
        "colab": {
          "base_uri": "https://localhost:8080/",
          "height": 841
        },
        "id": "4QmTayFkfQUd",
        "outputId": "e7eaeec1-0c38-4f84-ae87-695f20299ae3"
      },
      "execution_count": 56,
      "outputs": [
        {
          "output_type": "display_data",
          "data": {
            "text/plain": [
              "<Figure size 600x400 with 1 Axes>"
            ],
            "image/png": "[encoded data removed]"
          },
          "metadata": {}
        },
        {
          "output_type": "display_data",
          "data": {
            "text/plain": [
              "<Figure size 640x480 with 1 Axes>"
            ],
            "image/png": "[encoded data removed]"
          },
          "metadata": {}
        }
      ]
    },
    {
      "cell_type": "code",
      "source": [
        "os.makedirs('/content/models', exist_ok=True)\n",
        "model.save('/content/models/nn_v1.h5')\n",
        "json.dump({'auroc':auroc, 'auprc':auprc},\n",
        "          open('/content/models/nn_v1_metrics.json','w'), indent=2)"
      ],
      "metadata": {
        "colab": {
          "base_uri": "https://localhost:8080/"
        },
        "id": "M1fbtjFMfYGT",
        "outputId": "68550254-1071-44d5-df37-4bec92b3336a"
      },
      "execution_count": 57,
      "outputs": [
        {
          "output_type": "stream",
          "name": "stderr",
          "text": [
            "WARNING:absl:You are saving your model as an HDF5 file via `model.save()` or `keras.saving.save_model(model)`. This file format is considered legacy. We recommend using instead the native Keras format, e.g. `model.save('my_model.keras')` or `keras.saving.save_model(model, 'my_model.keras')`. \n"
          ]
        }
      ]
    },
    {
      "cell_type": "markdown",
      "source": [
        "### 🔍 Take-aways & next steps\n",
        "* **Under-performance:** AUPRC 0.814 < 0.828 (XGB).  \n",
        "  Likely causes: small network capacity, default LR, BCE loss not ideal for\n",
        "  heavy class imbalance.\n",
        "* **What could be concluded:**  \n",
        "  * Dense nets need a bit more tuning than tree ensembles here.  \n",
        "  * SMOTE may add noisy synthetic points—worth re-checking class-weights only.  \n",
        "* **Plan for NN v2:**  \n",
        "  1. Replace BCE with **Focal Loss** (γ = 2, α ≈ 0.25).  \n",
        "  2. Grid-search width × depth & dropout with **Keras-Tuner**.  \n",
        "  3. Try **Cosine LR decay** and **batch size 4096** for faster convergence.  \n",
        "  4. Compare SMOTE vs. class-weights directly in mini-batches.\n",
        "* Success criterion stays the same: **AUPRC > 0.828** on validation set.\n"
      ],
      "metadata": {
        "id": "HXY3RvpTgItN"
      }
    },
    {
      "cell_type": "code",
      "source": [
        "SEED = 42\n",
        "tf.random.set_seed(SEED); np.random.seed(SEED); random.seed(SEED)\n",
        "\n",
        "X_train = np.load('/content/data/processed/X_train.npy')\n",
        "y_train = np.load('/content/data/processed/y_train.npy')\n",
        "X_val   = np.load('/content/data/processed/X_val.npy')\n",
        "y_val   = np.load('/content/data/processed/y_val.npy')\n",
        "\n",
        "# ---- class weights instead of SMOTE ----\n",
        "cls_w = compute_class_weight('balanced', classes=np.unique(y_train), y=y_train)\n",
        "class_weights = {0:cls_w[0], 1:cls_w[1]}\n",
        "print(\"Class weights:\", class_weights)"
      ],
      "metadata": {
        "colab": {
          "base_uri": "https://localhost:8080/"
        },
        "id": "7aZ_gYr8g_1J",
        "outputId": "db198290-b327-47a7-c8fb-8c101c1d269a"
      },
      "execution_count": 59,
      "outputs": [
        {
          "output_type": "stream",
          "name": "stdout",
          "text": [
            "Class weights: {0: np.float64(0.5008642347502763), 1: np.float64(289.7732558139535)}\n"
          ]
        }
      ]
    },
    {
      "cell_type": "code",
      "source": [
        "def focal_loss(alpha=0.25, gamma=2.0):\n",
        "    def _focal(y_true, y_pred):\n",
        "        y_true = tf.cast(y_true, tf.float32)\n",
        "        eps = tf.keras.backend.epsilon()\n",
        "        y_pred = tf.clip_by_value(y_pred, eps, 1.0-eps)\n",
        "        p_t = y_true * y_pred + (1-y_true)*(1-y_pred)\n",
        "        alpha_t = y_true*alpha + (1-y_true)*(1-alpha)\n",
        "        loss = -alpha_t * tf.pow(1-p_t, gamma) * tf.math.log(p_t)\n",
        "        return tf.reduce_mean(loss)\n",
        "    return _focal"
      ],
      "metadata": {
        "id": "UBRYg1rXhi9f"
      },
      "execution_count": 60,
      "outputs": []
    },
    {
      "cell_type": "code",
      "source": [
        "def model_builder(hp: kt.HyperParameters):\n",
        "    hp_units_1 = hp.Int('units_1', min_value=256, max_value=1024, step=256)\n",
        "    hp_layers  = hp.Int('n_hidden', 2, 4)\n",
        "    hp_drop    = hp.Float('dropout', 0.1, 0.4, step=0.1)\n",
        "    hp_lr      = hp.Choice('lr', [1e-3, 5e-4, 1e-4])\n",
        "\n",
        "    inputs = tf.keras.Input(shape=(X_train.shape[1],))\n",
        "    x = inputs\n",
        "    units = hp_units_1\n",
        "    for i in range(hp_layers):\n",
        "        x = tf.keras.layers.Dense(units)(x)\n",
        "        x = tf.keras.layers.BatchNormalization()(x)\n",
        "        x = tf.keras.layers.Activation('relu')(x)\n",
        "        x = tf.keras.layers.Dropout(hp_drop)(x)\n",
        "        units = units // 2  # halve each layer\n",
        "    outputs = tf.keras.layers.Dense(1, activation='sigmoid')(x)\n",
        "\n",
        "    model = tf.keras.Model(inputs, outputs)\n",
        "    model.compile(\n",
        "        optimizer=tf.keras.optimizers.Adam(learning_rate=hp_lr),\n",
        "        loss=focal_loss(alpha=0.25, gamma=2.0),\n",
        "        metrics=[tf.keras.metrics.AUC(name='auroc'),\n",
        "                 tf.keras.metrics.AUC(name='auprc', curve='PR')]\n",
        "    )\n",
        "    return model"
      ],
      "metadata": {
        "id": "W6XBArxehk8E"
      },
      "execution_count": 65,
      "outputs": []
    },
    {
      "cell_type": "code",
      "source": [
        "tuner = kt.Hyperband(\n",
        "    model_builder,\n",
        "    objective=kt.Objective('val_auprc', direction='max'),\n",
        "    max_epochs=40,\n",
        "    factor=3,\n",
        "    directory='kt_logs',\n",
        "    project_name='nn_v2')\n",
        "\n",
        "stop = tf.keras.callbacks.EarlyStopping(monitor='val_auprc',\n",
        "                                        patience=5, mode='max', restore_best_weights=True)\n",
        "\n",
        "tuner.search(\n",
        "    X_train, y_train,\n",
        "    epochs=40,\n",
        "    validation_data=(X_val, y_val),\n",
        "    callbacks=[stop],\n",
        "    class_weight=class_weights,\n",
        "    verbose=2,\n",
        "    batch_size=2048)\n"
      ],
      "metadata": {
        "colab": {
          "base_uri": "https://localhost:8080/"
        },
        "id": "x_WjSZSfiCOD",
        "outputId": "496a1553-f362-490f-8a15-3990bac29233"
      },
      "execution_count": 66,
      "outputs": [
        {
          "output_type": "stream",
          "name": "stdout",
          "text": [
            "Trial 90 Complete [00h 00m 50s]\n",
            "val_auprc: 0.8051919937133789\n",
            "\n",
            "Best val_auprc So Far: 0.8347866535186768\n",
            "Total elapsed time: 00h 36m 23s\n"
          ]
        }
      ]
    },
    {
      "cell_type": "code",
      "source": [
        "best_model = tuner.get_best_models(1)[0]\n",
        "val_probs = best_model.predict(X_val, batch_size=4096).ravel()\n",
        "auroc  = roc_auc_score(y_val,  val_probs)\n",
        "auprc  = average_precision_score(y_val, val_probs)\n",
        "print(f\"Best v2  AUROC {auroc:.4f}   AUPRC {auprc:.4f}\")"
      ],
      "metadata": {
        "colab": {
          "base_uri": "https://localhost:8080/"
        },
        "id": "4jjYtUO6sBBm",
        "outputId": "554e3679-2a3e-48e3-f16b-43e494521ef4"
      },
      "execution_count": 67,
      "outputs": [
        {
          "output_type": "stream",
          "name": "stdout",
          "text": [
            "\u001b[1m11/11\u001b[0m \u001b[32m━━━━━━━━━━━━━━━━━━━━\u001b[0m\u001b[37m\u001b[0m \u001b[1m2s\u001b[0m 56ms/step\n",
            "Best v2  AUROC 0.9738   AUPRC 0.8350\n"
          ]
        }
      ]
    },
    {
      "cell_type": "code",
      "source": [
        "pr, rec, _ = precision_recall_curve(y_val, val_probs)\n",
        "plt.figure(figsize=(6,4))\n",
        "plt.plot(rec, pr, label=f'NN v2 (AUPRC {auprc:.3f})')\n",
        "plt.xlabel('Recall'); plt.ylabel('Precision'); plt.legend(); plt.tight_layout(); plt.show()\n",
        "\n",
        "best_model.save('/content/models/nn_v2.h5')\n",
        "json.dump({'auroc':auroc, 'auprc':auprc},\n",
        "          open('/content/models/nn_v2_metrics.json','w'), indent=2)"
      ],
      "metadata": {
        "colab": {
          "base_uri": "https://localhost:8080/",
          "height": 445
        },
        "id": "Izv9w3RPtGwj",
        "outputId": "7c651a74-3fbe-4978-f999-1465452c5247"
      },
      "execution_count": 68,
      "outputs": [
        {
          "output_type": "display_data",
          "data": {
            "text/plain": [
              "<Figure size 600x400 with 1 Axes>"
            ],
            "image/png": "[encoded data removed]"
          },
          "metadata": {}
        },
        {
          "output_type": "stream",
          "name": "stderr",
          "text": [
            "WARNING:absl:You are saving your model as an HDF5 file via `model.save()` or `keras.saving.save_model(model)`. This file format is considered legacy. We recommend using instead the native Keras format, e.g. `model.save('my_model.keras')` or `keras.saving.save_model(model, 'my_model.keras')`. \n"
          ]
        }
      ]
    },
    {
      "cell_type": "code",
      "source": [
        "best_model.summary()"
      ],
      "metadata": {
        "colab": {
          "base_uri": "https://localhost:8080/",
          "height": 650
        },
        "id": "SlBPDNTptbwA",
        "outputId": "9b23b608-3bdf-4fec-8f76-290f464e531e"
      },
      "execution_count": 71,
      "outputs": [
        {
          "output_type": "display_data",
          "data": {
            "text/plain": [
              "\u001b[1mModel: \"functional\"\u001b[0m\n"
            ],
            "text/html": [
              "<pre style=\"white-space:pre;overflow-x:auto;line-height:normal;font-family:Menlo,'DejaVu Sans Mono',consolas,'Courier New',monospace\"><span style=\"font-weight: bold\">Model: \"functional\"</span>\n",
              "</pre>\n"
            ]
          },
          "metadata": {}
        },
        {
          "output_type": "display_data",
          "data": {
            "text/plain": [
              "┏━━━━━━━━━━━━━━━━━━━━━━━━━━━━━━━━━┳━━━━━━━━━━━━━━━━━━━━━━━━┳━━━━━━━━━━━━━━━┓\n",
              "┃\u001b[1m \u001b[0m\u001b[1mLayer (type)                   \u001b[0m\u001b[1m \u001b[0m┃\u001b[1m \u001b[0m\u001b[1mOutput Shape          \u001b[0m\u001b[1m \u001b[0m┃\u001b[1m \u001b[0m\u001b[1m      Param #\u001b[0m\u001b[1m \u001b[0m┃\n",
              "┡━━━━━━━━━━━━━━━━━━━━━━━━━━━━━━━━━╇━━━━━━━━━━━━━━━━━━━━━━━━╇━━━━━━━━━━━━━━━┩\n",
              "│ input_layer (\u001b[38;5;33mInputLayer\u001b[0m)        │ (\u001b[38;5;45mNone\u001b[0m, \u001b[38;5;34m30\u001b[0m)             │             \u001b[38;5;34m0\u001b[0m │\n",
              "├─────────────────────────────────┼────────────────────────┼───────────────┤\n",
              "│ dense (\u001b[38;5;33mDense\u001b[0m)                   │ (\u001b[38;5;45mNone\u001b[0m, \u001b[38;5;34m1024\u001b[0m)           │        \u001b[38;5;34m31,744\u001b[0m │\n",
              "├─────────────────────────────────┼────────────────────────┼───────────────┤\n",
              "│ batch_normalization             │ (\u001b[38;5;45mNone\u001b[0m, \u001b[38;5;34m1024\u001b[0m)           │         \u001b[38;5;34m4,096\u001b[0m │\n",
              "│ (\u001b[38;5;33mBatchNormalization\u001b[0m)            │                        │               │\n",
              "├─────────────────────────────────┼────────────────────────┼───────────────┤\n",
              "│ activation (\u001b[38;5;33mActivation\u001b[0m)         │ (\u001b[38;5;45mNone\u001b[0m, \u001b[38;5;34m1024\u001b[0m)           │             \u001b[38;5;34m0\u001b[0m │\n",
              "├─────────────────────────────────┼────────────────────────┼───────────────┤\n",
              "│ dropout (\u001b[38;5;33mDropout\u001b[0m)               │ (\u001b[38;5;45mNone\u001b[0m, \u001b[38;5;34m1024\u001b[0m)           │             \u001b[38;5;34m0\u001b[0m │\n",
              "├─────────────────────────────────┼────────────────────────┼───────────────┤\n",
              "│ dense_1 (\u001b[38;5;33mDense\u001b[0m)                 │ (\u001b[38;5;45mNone\u001b[0m, \u001b[38;5;34m512\u001b[0m)            │       \u001b[38;5;34m524,800\u001b[0m │\n",
              "├─────────────────────────────────┼────────────────────────┼───────────────┤\n",
              "│ batch_normalization_1           │ (\u001b[38;5;45mNone\u001b[0m, \u001b[38;5;34m512\u001b[0m)            │         \u001b[38;5;34m2,048\u001b[0m │\n",
              "│ (\u001b[38;5;33mBatchNormalization\u001b[0m)            │                        │               │\n",
              "├─────────────────────────────────┼────────────────────────┼───────────────┤\n",
              "│ activation_1 (\u001b[38;5;33mActivation\u001b[0m)       │ (\u001b[38;5;45mNone\u001b[0m, \u001b[38;5;34m512\u001b[0m)            │             \u001b[38;5;34m0\u001b[0m │\n",
              "├─────────────────────────────────┼────────────────────────┼───────────────┤\n",
              "│ dropout_1 (\u001b[38;5;33mDropout\u001b[0m)             │ (\u001b[38;5;45mNone\u001b[0m, \u001b[38;5;34m512\u001b[0m)            │             \u001b[38;5;34m0\u001b[0m │\n",
              "├─────────────────────────────────┼────────────────────────┼───────────────┤\n",
              "│ dense_2 (\u001b[38;5;33mDense\u001b[0m)                 │ (\u001b[38;5;45mNone\u001b[0m, \u001b[38;5;34m256\u001b[0m)            │       \u001b[38;5;34m131,328\u001b[0m │\n",
              "├─────────────────────────────────┼────────────────────────┼───────────────┤\n",
              "│ batch_normalization_2           │ (\u001b[38;5;45mNone\u001b[0m, \u001b[38;5;34m256\u001b[0m)            │         \u001b[38;5;34m1,024\u001b[0m │\n",
              "│ (\u001b[38;5;33mBatchNormalization\u001b[0m)            │                        │               │\n",
              "├─────────────────────────────────┼────────────────────────┼───────────────┤\n",
              "│ activation_2 (\u001b[38;5;33mActivation\u001b[0m)       │ (\u001b[38;5;45mNone\u001b[0m, \u001b[38;5;34m256\u001b[0m)            │             \u001b[38;5;34m0\u001b[0m │\n",
              "├─────────────────────────────────┼────────────────────────┼───────────────┤\n",
              "│ dropout_2 (\u001b[38;5;33mDropout\u001b[0m)             │ (\u001b[38;5;45mNone\u001b[0m, \u001b[38;5;34m256\u001b[0m)            │             \u001b[38;5;34m0\u001b[0m │\n",
              "├─────────────────────────────────┼────────────────────────┼───────────────┤\n",
              "│ dense_3 (\u001b[38;5;33mDense\u001b[0m)                 │ (\u001b[38;5;45mNone\u001b[0m, \u001b[38;5;34m1\u001b[0m)              │           \u001b[38;5;34m257\u001b[0m │\n",
              "└─────────────────────────────────┴────────────────────────┴───────────────┘\n"
            ],
            "text/html": [
              "<pre style=\"white-space:pre;overflow-x:auto;line-height:normal;font-family:Menlo,'DejaVu Sans Mono',consolas,'Courier New',monospace\">┏━━━━━━━━━━━━━━━━━━━━━━━━━━━━━━━━━┳━━━━━━━━━━━━━━━━━━━━━━━━┳━━━━━━━━━━━━━━━┓\n",
              "┃<span style=\"font-weight: bold\"> Layer (type)                    </span>┃<span style=\"font-weight: bold\"> Output Shape           </span>┃<span style=\"font-weight: bold\">       Param # </span>┃\n",
              "┡━━━━━━━━━━━━━━━━━━━━━━━━━━━━━━━━━╇━━━━━━━━━━━━━━━━━━━━━━━━╇━━━━━━━━━━━━━━━┩\n",
              "│ input_layer (<span style=\"color: #0087ff; text-decoration-color: #0087ff\">InputLayer</span>)        │ (<span style=\"color: #00d7ff; text-decoration-color: #00d7ff\">None</span>, <span style=\"color: #00af00; text-decoration-color: #00af00\">30</span>)             │             <span style=\"color: #00af00; text-decoration-color: #00af00\">0</span> │\n",
              "├─────────────────────────────────┼────────────────────────┼───────────────┤\n",
              "│ dense (<span style=\"color: #0087ff; text-decoration-color: #0087ff\">Dense</span>)                   │ (<span style=\"color: #00d7ff; text-decoration-color: #00d7ff\">None</span>, <span style=\"color: #00af00; text-decoration-color: #00af00\">1024</span>)           │        <span style=\"color: #00af00; text-decoration-color: #00af00\">31,744</span> │\n",
              "├─────────────────────────────────┼────────────────────────┼───────────────┤\n",
              "│ batch_normalization             │ (<span style=\"color: #00d7ff; text-decoration-color: #00d7ff\">None</span>, <span style=\"color: #00af00; text-decoration-color: #00af00\">1024</span>)           │         <span style=\"color: #00af00; text-decoration-color: #00af00\">4,096</span> │\n",
              "│ (<span style=\"color: #0087ff; text-decoration-color: #0087ff\">BatchNormalization</span>)            │                        │               │\n",
              "├─────────────────────────────────┼────────────────────────┼───────────────┤\n",
              "│ activation (<span style=\"color: #0087ff; text-decoration-color: #0087ff\">Activation</span>)         │ (<span style=\"color: #00d7ff; text-decoration-color: #00d7ff\">None</span>, <span style=\"color: #00af00; text-decoration-color: #00af00\">1024</span>)           │             <span style=\"color: #00af00; text-decoration-color: #00af00\">0</span> │\n",
              "├─────────────────────────────────┼────────────────────────┼───────────────┤\n",
              "│ dropout (<span style=\"color: #0087ff; text-decoration-color: #0087ff\">Dropout</span>)               │ (<span style=\"color: #00d7ff; text-decoration-color: #00d7ff\">None</span>, <span style=\"color: #00af00; text-decoration-color: #00af00\">1024</span>)           │             <span style=\"color: #00af00; text-decoration-color: #00af00\">0</span> │\n",
              "├─────────────────────────────────┼────────────────────────┼───────────────┤\n",
              "│ dense_1 (<span style=\"color: #0087ff; text-decoration-color: #0087ff\">Dense</span>)                 │ (<span style=\"color: #00d7ff; text-decoration-color: #00d7ff\">None</span>, <span style=\"color: #00af00; text-decoration-color: #00af00\">512</span>)            │       <span style=\"color: #00af00; text-decoration-color: #00af00\">524,800</span> │\n",
              "├─────────────────────────────────┼────────────────────────┼───────────────┤\n",
              "│ batch_normalization_1           │ (<span style=\"color: #00d7ff; text-decoration-color: #00d7ff\">None</span>, <span style=\"color: #00af00; text-decoration-color: #00af00\">512</span>)            │         <span style=\"color: #00af00; text-decoration-color: #00af00\">2,048</span> │\n",
              "│ (<span style=\"color: #0087ff; text-decoration-color: #0087ff\">BatchNormalization</span>)            │                        │               │\n",
              "├─────────────────────────────────┼────────────────────────┼───────────────┤\n",
              "│ activation_1 (<span style=\"color: #0087ff; text-decoration-color: #0087ff\">Activation</span>)       │ (<span style=\"color: #00d7ff; text-decoration-color: #00d7ff\">None</span>, <span style=\"color: #00af00; text-decoration-color: #00af00\">512</span>)            │             <span style=\"color: #00af00; text-decoration-color: #00af00\">0</span> │\n",
              "├─────────────────────────────────┼────────────────────────┼───────────────┤\n",
              "│ dropout_1 (<span style=\"color: #0087ff; text-decoration-color: #0087ff\">Dropout</span>)             │ (<span style=\"color: #00d7ff; text-decoration-color: #00d7ff\">None</span>, <span style=\"color: #00af00; text-decoration-color: #00af00\">512</span>)            │             <span style=\"color: #00af00; text-decoration-color: #00af00\">0</span> │\n",
              "├─────────────────────────────────┼────────────────────────┼───────────────┤\n",
              "│ dense_2 (<span style=\"color: #0087ff; text-decoration-color: #0087ff\">Dense</span>)                 │ (<span style=\"color: #00d7ff; text-decoration-color: #00d7ff\">None</span>, <span style=\"color: #00af00; text-decoration-color: #00af00\">256</span>)            │       <span style=\"color: #00af00; text-decoration-color: #00af00\">131,328</span> │\n",
              "├─────────────────────────────────┼────────────────────────┼───────────────┤\n",
              "│ batch_normalization_2           │ (<span style=\"color: #00d7ff; text-decoration-color: #00d7ff\">None</span>, <span style=\"color: #00af00; text-decoration-color: #00af00\">256</span>)            │         <span style=\"color: #00af00; text-decoration-color: #00af00\">1,024</span> │\n",
              "│ (<span style=\"color: #0087ff; text-decoration-color: #0087ff\">BatchNormalization</span>)            │                        │               │\n",
              "├─────────────────────────────────┼────────────────────────┼───────────────┤\n",
              "│ activation_2 (<span style=\"color: #0087ff; text-decoration-color: #0087ff\">Activation</span>)       │ (<span style=\"color: #00d7ff; text-decoration-color: #00d7ff\">None</span>, <span style=\"color: #00af00; text-decoration-color: #00af00\">256</span>)            │             <span style=\"color: #00af00; text-decoration-color: #00af00\">0</span> │\n",
              "├─────────────────────────────────┼────────────────────────┼───────────────┤\n",
              "│ dropout_2 (<span style=\"color: #0087ff; text-decoration-color: #0087ff\">Dropout</span>)             │ (<span style=\"color: #00d7ff; text-decoration-color: #00d7ff\">None</span>, <span style=\"color: #00af00; text-decoration-color: #00af00\">256</span>)            │             <span style=\"color: #00af00; text-decoration-color: #00af00\">0</span> │\n",
              "├─────────────────────────────────┼────────────────────────┼───────────────┤\n",
              "│ dense_3 (<span style=\"color: #0087ff; text-decoration-color: #0087ff\">Dense</span>)                 │ (<span style=\"color: #00d7ff; text-decoration-color: #00d7ff\">None</span>, <span style=\"color: #00af00; text-decoration-color: #00af00\">1</span>)              │           <span style=\"color: #00af00; text-decoration-color: #00af00\">257</span> │\n",
              "└─────────────────────────────────┴────────────────────────┴───────────────┘\n",
              "</pre>\n"
            ]
          },
          "metadata": {}
        },
        {
          "output_type": "display_data",
          "data": {
            "text/plain": [
              "\u001b[1m Total params: \u001b[0m\u001b[38;5;34m695,297\u001b[0m (2.65 MB)\n"
            ],
            "text/html": [
              "<pre style=\"white-space:pre;overflow-x:auto;line-height:normal;font-family:Menlo,'DejaVu Sans Mono',consolas,'Courier New',monospace\"><span style=\"font-weight: bold\"> Total params: </span><span style=\"color: #00af00; text-decoration-color: #00af00\">695,297</span> (2.65 MB)\n",
              "</pre>\n"
            ]
          },
          "metadata": {}
        },
        {
          "output_type": "display_data",
          "data": {
            "text/plain": [
              "\u001b[1m Trainable params: \u001b[0m\u001b[38;5;34m691,713\u001b[0m (2.64 MB)\n"
            ],
            "text/html": [
              "<pre style=\"white-space:pre;overflow-x:auto;line-height:normal;font-family:Menlo,'DejaVu Sans Mono',consolas,'Courier New',monospace\"><span style=\"font-weight: bold\"> Trainable params: </span><span style=\"color: #00af00; text-decoration-color: #00af00\">691,713</span> (2.64 MB)\n",
              "</pre>\n"
            ]
          },
          "metadata": {}
        },
        {
          "output_type": "display_data",
          "data": {
            "text/plain": [
              "\u001b[1m Non-trainable params: \u001b[0m\u001b[38;5;34m3,584\u001b[0m (14.00 KB)\n"
            ],
            "text/html": [
              "<pre style=\"white-space:pre;overflow-x:auto;line-height:normal;font-family:Menlo,'DejaVu Sans Mono',consolas,'Courier New',monospace\"><span style=\"font-weight: bold\"> Non-trainable params: </span><span style=\"color: #00af00; text-decoration-color: #00af00\">3,584</span> (14.00 KB)\n",
              "</pre>\n"
            ]
          },
          "metadata": {}
        }
      ]
    },
    {
      "cell_type": "markdown",
      "source": [
        "# 8 · Test-set Evaluation & Threshold Tuning\n"
      ],
      "metadata": {
        "id": "vSgEAObBuzlY"
      }
    },
    {
      "cell_type": "code",
      "source": [
        "# Load data and model\n",
        "\n",
        "X_test = np.load('/content/data/processed/X_test.npy')\n",
        "y_test = np.load('/content/data/processed/y_test.npy')\n",
        "\n",
        "# Define the focal_loss function again for loading\n",
        "def focal_loss(alpha=0.25, gamma=2.0):\n",
        "    def _focal(y_true, y_pred):\n",
        "        y_true = tf.cast(y_true, tf.float32)\n",
        "        eps = tf.keras.backend.epsilon()\n",
        "        y_pred = tf.clip_by_value(y_pred, eps, 1.0-eps)\n",
        "        p_t = y_true * y_pred + (1-y_true)*(1-y_pred)\n",
        "        alpha_t = y_true*alpha + (1-y_true)*(1-alpha)\n",
        "        loss = -alpha_t * tf.pow(1-p_t, gamma) * tf.math.log(p_t)\n",
        "        return tf.reduce_mean(loss)\n",
        "    # Return the inner _focal function\n",
        "    return _focal\n",
        "\n",
        "# Load the Keras model, providing the custom focal_loss function\n",
        "nn = tf.keras.models.load_model('/content/models/nn_v2.h5',\n",
        "                                custom_objects={'_focal': focal_loss()}) # Provide the actual function\n",
        "\n",
        "xgb = joblib.load('/content/models/xgboost.pkl')\n",
        "\n",
        "p_nn  = nn.predict(X_test, batch_size=4096).ravel()\n",
        "p_xgb = xgb.predict_proba(X_test)[:,1]\n",
        "\n",
        "print(\"NN v2  Test  AUROC\", roc_auc_score(y_test,p_nn),\n",
        "      \"AUPRC\", average_precision_score(y_test,p_nn))\n",
        "print(\"XGBoost Test AUROC\", roc_auc_score(y_test,p_xgb),\n",
        "      \"AUPRC\", average_precision_score(y_test,p_xgb))"
      ],
      "metadata": {
        "colab": {
          "base_uri": "https://localhost:8080/"
        },
        "id": "U-qLuKh3u1-6",
        "outputId": "a7db47d5-1bb0-4ecb-968d-09684387f5ca"
      },
      "execution_count": 76,
      "outputs": [
        {
          "output_type": "stream",
          "name": "stderr",
          "text": [
            "WARNING:absl:Compiled the loaded model, but the compiled metrics have yet to be built. `model.compile_metrics` will be empty until you train or evaluate the model.\n"
          ]
        },
        {
          "output_type": "stream",
          "name": "stdout",
          "text": [
            "\u001b[1m11/11\u001b[0m \u001b[32m━━━━━━━━━━━━━━━━━━━━\u001b[0m\u001b[37m\u001b[0m \u001b[1m3s\u001b[0m 73ms/step\n",
            "NN v2  Test  AUROC 0.9635868986600556 AUPRC 0.8396145030379032\n",
            "XGBoost Test AUROC 0.9699105056097177 AUPRC 0.8417024321285529\n"
          ]
        }
      ]
    },
    {
      "cell_type": "code",
      "source": [
        "def best_threshold(probs, y_true, beta=1.):\n",
        "    pr, rec, thr = precision_recall_curve(y_true, probs)\n",
        "    f1 = (1+beta**2) * (pr*rec) / (beta**2*pr + rec + 1e-8)\n",
        "    ix = f1.argmax()\n",
        "    return thr[ix], pr[ix], rec[ix], f1[ix]\n",
        "\n",
        "t_nn, prec_nn, rec_nn, f1_nn  = best_threshold(p_nn,  y_test)\n",
        "t_xg, prec_xg, rec_xg, f1_xg  = best_threshold(p_xgb, y_test)\n",
        "print(f\"NN v2 threshold {t_nn:.2f}  P {prec_nn:.3f}  R {rec_nn:.3f}  F1 {f1_nn:.3f}\")\n",
        "print(f\"XGB  threshold   {t_xg:.2f}  P {prec_xg:.3f}  R {rec_xg:.3f}  F1 {f1_xg:.3f}\")"
      ],
      "metadata": {
        "colab": {
          "base_uri": "https://localhost:8080/"
        },
        "id": "Pm8sJm9f292N",
        "outputId": "e34ed6e3-9347-43e1-a3c0-b3211281e105"
      },
      "execution_count": 77,
      "outputs": [
        {
          "output_type": "stream",
          "name": "stdout",
          "text": [
            "NN v2 threshold 0.47  P 0.953  R 0.824  F1 0.884\n",
            "XGB  threshold   0.80  P 0.937  R 0.797  F1 0.861\n"
          ]
        }
      ]
    },
    {
      "cell_type": "code",
      "source": [
        "def cost(probs, y_true, thr, c_fp=25, c_fn=600):\n",
        "    y_pred = (probs>=thr).astype(int)\n",
        "    fp = ((y_pred==1)&(y_true==0)).sum()\n",
        "    fn = ((y_pred==0)&(y_true==1)).sum()\n",
        "    return fp*c_fp + fn*c_fn\n",
        "\n",
        "base_cost = cost(np.zeros_like(y_test), y_test, 1, 25, 600)   # detect nothing\n",
        "cost_nn   = cost(p_nn,  y_test, t_nn)\n",
        "cost_xgb  = cost(p_xgb, y_test, t_xg)\n",
        "print(f\"NN saved €{base_cost-cost_nn:,.0f}\")\n",
        "print(f\"XGB saved €{base_cost-cost_xgb:,.0f}\")"
      ],
      "metadata": {
        "colab": {
          "base_uri": "https://localhost:8080/"
        },
        "id": "JlBjhXPO3HTp",
        "outputId": "67d0adb4-b857-4e12-93ea-00bc41e2e5fe"
      },
      "execution_count": 78,
      "outputs": [
        {
          "output_type": "stream",
          "name": "stdout",
          "text": [
            "NN saved €36,525\n",
            "XGB saved €35,300\n"
          ]
        }
      ]
    },
    {
      "cell_type": "code",
      "source": [
        "# PR curves\n",
        "for label,probs in [(\"NN v2\",p_nn), (\"XGB\",p_xgb)]:\n",
        "    pr, rec, _ = precision_recall_curve(y_test, probs)\n",
        "    plt.plot(rec, pr, label=f\"{label} (AUPRC {average_precision_score(y_test,probs):.3f})\")\n",
        "plt.xlabel('Recall'); plt.ylabel('Precision'); plt.legend(); plt.title('Test PR Curve')\n",
        "plt.show()\n",
        "\n",
        "# Confusion matrix for NN v2 at chosen threshold\n",
        "y_pred = (p_nn>=t_nn).astype(int)\n",
        "cm = confusion_matrix(y_test,y_pred)\n",
        "ConfusionMatrixDisplay(cm, display_labels=[\"Legit\",\"Fraud\"]).plot(cmap='Blues')\n",
        "plt.title(f'NN v2 Confusion Matrix @ {t_nn:.2f}')\n",
        "plt.show()"
      ],
      "metadata": {
        "colab": {
          "base_uri": "https://localhost:8080/",
          "height": 927
        },
        "id": "ZisygnI_3Lbm",
        "outputId": "214c2cd8-ce50-4e32-a48b-8183938d9b32"
      },
      "execution_count": 79,
      "outputs": [
        {
          "output_type": "display_data",
          "data": {
            "text/plain": [
              "<Figure size 640x480 with 1 Axes>"
            ],
            "image/png": "[encoded data removed]"
          },
          "metadata": {}
        },
        {
          "output_type": "display_data",
          "data": {
            "text/plain": [
              "<Figure size 640x480 with 2 Axes>"
            ],
            "image/png": "[encoded data removed]"
          },
          "metadata": {}
        }
      ]
    }
  ]
}